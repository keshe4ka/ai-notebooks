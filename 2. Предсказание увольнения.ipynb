{
  "nbformat": 4,
  "nbformat_minor": 0,
  "metadata": {
    "colab": {
      "name": "Увольнение(RF+GB).ipynb",
      "provenance": []
    },
    "kernelspec": {
      "name": "python3",
      "display_name": "Python 3"
    },
    "language_info": {
      "name": "python"
    }
  },
  "cells": [
    {
      "cell_type": "code",
      "metadata": {
        "id": "yNzAqaxF_9CA"
      },
      "source": [
        "import numpy as np\n",
        "import pandas as pd\n",
        "import matplotlib.pyplot as plt\n",
        "%matplotlib inline"
      ],
      "execution_count": null,
      "outputs": []
    },
    {
      "cell_type": "markdown",
      "metadata": {
        "id": "OyPtrph0Ciev"
      },
      "source": [
        "Посмотрим на данные"
      ]
    },
    {
      "cell_type": "code",
      "metadata": {
        "colab": {
          "base_uri": "https://localhost:8080/",
          "height": 206
        },
        "id": "oDqsZjbOClLS",
        "outputId": "1157db87-62ee-4a36-e792-734d89214fb3"
      },
      "source": [
        "data = pd.read_csv(\"./employee_leave_train.csv\").drop('Unnamed: 0',axis=1)\n",
        "data.head()"
      ],
      "execution_count": null,
      "outputs": [
        {
          "output_type": "execute_result",
          "data": {
            "text/html": [
              "<div>\n",
              "<style scoped>\n",
              "    .dataframe tbody tr th:only-of-type {\n",
              "        vertical-align: middle;\n",
              "    }\n",
              "\n",
              "    .dataframe tbody tr th {\n",
              "        vertical-align: top;\n",
              "    }\n",
              "\n",
              "    .dataframe thead th {\n",
              "        text-align: right;\n",
              "    }\n",
              "</style>\n",
              "<table border=\"1\" class=\"dataframe\">\n",
              "  <thead>\n",
              "    <tr style=\"text-align: right;\">\n",
              "      <th></th>\n",
              "      <th>Образование</th>\n",
              "      <th>Год начала работы</th>\n",
              "      <th>Город</th>\n",
              "      <th>Уровень оплаты</th>\n",
              "      <th>Возраст</th>\n",
              "      <th>Пол</th>\n",
              "      <th>Отстранения</th>\n",
              "      <th>Опыт</th>\n",
              "      <th>Увольнение</th>\n",
              "    </tr>\n",
              "  </thead>\n",
              "  <tbody>\n",
              "    <tr>\n",
              "      <th>0</th>\n",
              "      <td>PHD</td>\n",
              "      <td>2013</td>\n",
              "      <td>New Delhi</td>\n",
              "      <td>3</td>\n",
              "      <td>30</td>\n",
              "      <td>Male</td>\n",
              "      <td>No</td>\n",
              "      <td>5</td>\n",
              "      <td>0</td>\n",
              "    </tr>\n",
              "    <tr>\n",
              "      <th>1</th>\n",
              "      <td>Bachelors</td>\n",
              "      <td>2018</td>\n",
              "      <td>Bangalore</td>\n",
              "      <td>3</td>\n",
              "      <td>25</td>\n",
              "      <td>Male</td>\n",
              "      <td>No</td>\n",
              "      <td>3</td>\n",
              "      <td>1</td>\n",
              "    </tr>\n",
              "    <tr>\n",
              "      <th>2</th>\n",
              "      <td>Masters</td>\n",
              "      <td>2017</td>\n",
              "      <td>New Delhi</td>\n",
              "      <td>3</td>\n",
              "      <td>26</td>\n",
              "      <td>Male</td>\n",
              "      <td>No</td>\n",
              "      <td>4</td>\n",
              "      <td>1</td>\n",
              "    </tr>\n",
              "    <tr>\n",
              "      <th>3</th>\n",
              "      <td>PHD</td>\n",
              "      <td>2012</td>\n",
              "      <td>Bangalore</td>\n",
              "      <td>1</td>\n",
              "      <td>38</td>\n",
              "      <td>Male</td>\n",
              "      <td>No</td>\n",
              "      <td>5</td>\n",
              "      <td>0</td>\n",
              "    </tr>\n",
              "    <tr>\n",
              "      <th>4</th>\n",
              "      <td>PHD</td>\n",
              "      <td>2018</td>\n",
              "      <td>New Delhi</td>\n",
              "      <td>3</td>\n",
              "      <td>27</td>\n",
              "      <td>Female</td>\n",
              "      <td>No</td>\n",
              "      <td>5</td>\n",
              "      <td>1</td>\n",
              "    </tr>\n",
              "  </tbody>\n",
              "</table>\n",
              "</div>"
            ],
            "text/plain": [
              "  Образование  Год начала работы      Город  ...  Отстранения  Опыт Увольнение\n",
              "0         PHD               2013  New Delhi  ...           No     5          0\n",
              "1   Bachelors               2018  Bangalore  ...           No     3          1\n",
              "2     Masters               2017  New Delhi  ...           No     4          1\n",
              "3         PHD               2012  Bangalore  ...           No     5          0\n",
              "4         PHD               2018  New Delhi  ...           No     5          1\n",
              "\n",
              "[5 rows x 9 columns]"
            ]
          },
          "metadata": {},
          "execution_count": 6
        }
      ]
    },
    {
      "cell_type": "markdown",
      "metadata": {
        "id": "LT9EbBs9IFpl"
      },
      "source": [
        "Посмотрим на признаки"
      ]
    },
    {
      "cell_type": "code",
      "metadata": {
        "colab": {
          "base_uri": "https://localhost:8080/"
        },
        "id": "NpuBKXoLLzaH",
        "outputId": "c8e40987-6db9-46fb-9852-31606523afa4"
      },
      "source": [
        "data.info()"
      ],
      "execution_count": null,
      "outputs": [
        {
          "output_type": "stream",
          "name": "stdout",
          "text": [
            "<class 'pandas.core.frame.DataFrame'>\n",
            "RangeIndex: 4153 entries, 0 to 4152\n",
            "Data columns (total 9 columns):\n",
            " #   Column             Non-Null Count  Dtype \n",
            "---  ------             --------------  ----- \n",
            " 0   Образование        4153 non-null   object\n",
            " 1   Год начала работы  4153 non-null   int64 \n",
            " 2   Город              4153 non-null   object\n",
            " 3   Уровень оплаты     4153 non-null   int64 \n",
            " 4   Возраст            4153 non-null   int64 \n",
            " 5   Пол                4153 non-null   object\n",
            " 6   Отстранения        4153 non-null   int64 \n",
            " 7   Опыт               4153 non-null   int64 \n",
            " 8   Увольнение         4153 non-null   int64 \n",
            "dtypes: int64(6), object(3)\n",
            "memory usage: 292.1+ KB\n"
          ]
        }
      ]
    },
    {
      "cell_type": "code",
      "metadata": {
        "id": "dwDdglSmLGpx"
      },
      "source": [
        "categorial_columns = [x for x in data.columns if data[x].dtype =='object']"
      ],
      "execution_count": null,
      "outputs": []
    },
    {
      "cell_type": "code",
      "metadata": {
        "colab": {
          "base_uri": "https://localhost:8080/"
        },
        "id": "_DJ1Fec-LYFW",
        "outputId": "18a29101-f73c-40ce-a26e-f2f73f9a1a7b"
      },
      "source": [
        "categorial_columns"
      ],
      "execution_count": null,
      "outputs": [
        {
          "output_type": "execute_result",
          "data": {
            "text/plain": [
              "['Образование', 'Город', 'Пол']"
            ]
          },
          "metadata": {},
          "execution_count": 10
        }
      ]
    },
    {
      "cell_type": "code",
      "metadata": {
        "colab": {
          "base_uri": "https://localhost:8080/"
        },
        "id": "t2Q2b6RtK5Nq",
        "outputId": "896e9b9e-9dd1-484a-a7a3-f160e6170d70"
      },
      "source": [
        "data['Образование'].value_counts()"
      ],
      "execution_count": null,
      "outputs": [
        {
          "output_type": "execute_result",
          "data": {
            "text/plain": [
              "Bachelors    3204\n",
              "Masters       791\n",
              "PHD           158\n",
              "Name: Образование, dtype: int64"
            ]
          },
          "metadata": {},
          "execution_count": 11
        }
      ]
    },
    {
      "cell_type": "code",
      "metadata": {
        "colab": {
          "base_uri": "https://localhost:8080/"
        },
        "id": "nOHVQA1yIH_Y",
        "outputId": "98ad4291-3eaf-41e6-8905-e749108befd0"
      },
      "source": [
        "data['Город'].value_counts()"
      ],
      "execution_count": null,
      "outputs": [
        {
          "output_type": "execute_result",
          "data": {
            "text/plain": [
              "Bangalore    1969\n",
              "Pune         1130\n",
              "New Delhi    1054\n",
              "Name: Город, dtype: int64"
            ]
          },
          "metadata": {},
          "execution_count": 12
        }
      ]
    },
    {
      "cell_type": "code",
      "metadata": {
        "colab": {
          "base_uri": "https://localhost:8080/"
        },
        "id": "BHt8BJyELjKo",
        "outputId": "d813c500-3761-473e-ec94-c77de108770f"
      },
      "source": [
        "data['Пол'].value_counts()"
      ],
      "execution_count": null,
      "outputs": [
        {
          "output_type": "execute_result",
          "data": {
            "text/plain": [
              "Male      2481\n",
              "Female    1672\n",
              "Name: Пол, dtype: int64"
            ]
          },
          "metadata": {},
          "execution_count": 13
        }
      ]
    },
    {
      "cell_type": "code",
      "metadata": {
        "colab": {
          "base_uri": "https://localhost:8080/"
        },
        "id": "xxA3OZ_zLl_w",
        "outputId": "931bce8f-54d1-4647-df78-166905484e0f"
      },
      "source": [
        "data['Отстранения'].value_counts()"
      ],
      "execution_count": null,
      "outputs": [
        {
          "output_type": "execute_result",
          "data": {
            "text/plain": [
              "0    3721\n",
              "1     432\n",
              "Name: Отстранения, dtype: int64"
            ]
          },
          "metadata": {},
          "execution_count": 14
        }
      ]
    },
    {
      "cell_type": "markdown",
      "metadata": {
        "id": "Gm56mGb9NetP"
      },
      "source": [
        "Переведем признак \"отстранения\" в вид бинарных переменных"
      ]
    },
    {
      "cell_type": "code",
      "metadata": {
        "colab": {
          "base_uri": "https://localhost:8080/",
          "height": 206
        },
        "id": "nJx_8qHeNox5",
        "outputId": "61617a6b-f948-40c5-99f2-aa29f2be667f"
      },
      "source": [
        "data['Отстранения'] = data['Отстранения'].apply(lambda x: 1 if x=='Yes' else 0)\n",
        "data.head()"
      ],
      "execution_count": null,
      "outputs": [
        {
          "output_type": "execute_result",
          "data": {
            "text/html": [
              "<div>\n",
              "<style scoped>\n",
              "    .dataframe tbody tr th:only-of-type {\n",
              "        vertical-align: middle;\n",
              "    }\n",
              "\n",
              "    .dataframe tbody tr th {\n",
              "        vertical-align: top;\n",
              "    }\n",
              "\n",
              "    .dataframe thead th {\n",
              "        text-align: right;\n",
              "    }\n",
              "</style>\n",
              "<table border=\"1\" class=\"dataframe\">\n",
              "  <thead>\n",
              "    <tr style=\"text-align: right;\">\n",
              "      <th></th>\n",
              "      <th>Образование</th>\n",
              "      <th>Год начала работы</th>\n",
              "      <th>Город</th>\n",
              "      <th>Уровень оплаты</th>\n",
              "      <th>Возраст</th>\n",
              "      <th>Пол</th>\n",
              "      <th>Отстранения</th>\n",
              "      <th>Опыт</th>\n",
              "      <th>Увольнение</th>\n",
              "    </tr>\n",
              "  </thead>\n",
              "  <tbody>\n",
              "    <tr>\n",
              "      <th>0</th>\n",
              "      <td>PHD</td>\n",
              "      <td>2013</td>\n",
              "      <td>New Delhi</td>\n",
              "      <td>3</td>\n",
              "      <td>30</td>\n",
              "      <td>Male</td>\n",
              "      <td>0</td>\n",
              "      <td>5</td>\n",
              "      <td>0</td>\n",
              "    </tr>\n",
              "    <tr>\n",
              "      <th>1</th>\n",
              "      <td>Bachelors</td>\n",
              "      <td>2018</td>\n",
              "      <td>Bangalore</td>\n",
              "      <td>3</td>\n",
              "      <td>25</td>\n",
              "      <td>Male</td>\n",
              "      <td>0</td>\n",
              "      <td>3</td>\n",
              "      <td>1</td>\n",
              "    </tr>\n",
              "    <tr>\n",
              "      <th>2</th>\n",
              "      <td>Masters</td>\n",
              "      <td>2017</td>\n",
              "      <td>New Delhi</td>\n",
              "      <td>3</td>\n",
              "      <td>26</td>\n",
              "      <td>Male</td>\n",
              "      <td>0</td>\n",
              "      <td>4</td>\n",
              "      <td>1</td>\n",
              "    </tr>\n",
              "    <tr>\n",
              "      <th>3</th>\n",
              "      <td>PHD</td>\n",
              "      <td>2012</td>\n",
              "      <td>Bangalore</td>\n",
              "      <td>1</td>\n",
              "      <td>38</td>\n",
              "      <td>Male</td>\n",
              "      <td>0</td>\n",
              "      <td>5</td>\n",
              "      <td>0</td>\n",
              "    </tr>\n",
              "    <tr>\n",
              "      <th>4</th>\n",
              "      <td>PHD</td>\n",
              "      <td>2018</td>\n",
              "      <td>New Delhi</td>\n",
              "      <td>3</td>\n",
              "      <td>27</td>\n",
              "      <td>Female</td>\n",
              "      <td>0</td>\n",
              "      <td>5</td>\n",
              "      <td>1</td>\n",
              "    </tr>\n",
              "  </tbody>\n",
              "</table>\n",
              "</div>"
            ],
            "text/plain": [
              "  Образование  Год начала работы      Город  ...  Отстранения  Опыт Увольнение\n",
              "0         PHD               2013  New Delhi  ...            0     5          0\n",
              "1   Bachelors               2018  Bangalore  ...            0     3          1\n",
              "2     Masters               2017  New Delhi  ...            0     4          1\n",
              "3         PHD               2012  Bangalore  ...            0     5          0\n",
              "4         PHD               2018  New Delhi  ...            0     5          1\n",
              "\n",
              "[5 rows x 9 columns]"
            ]
          },
          "metadata": {},
          "execution_count": 7
        }
      ]
    },
    {
      "cell_type": "code",
      "metadata": {
        "colab": {
          "base_uri": "https://localhost:8080/"
        },
        "id": "s-12YCJiQPOf",
        "outputId": "63ce06f1-71c1-49dd-bb49-ec76dcbfa4ba"
      },
      "source": [
        "categorial_columns = [x for x in data.columns if data[x].dtype =='object']\n",
        "categorial_columns"
      ],
      "execution_count": null,
      "outputs": [
        {
          "output_type": "execute_result",
          "data": {
            "text/plain": [
              "['Образование', 'Город', 'Пол']"
            ]
          },
          "metadata": {},
          "execution_count": 15
        }
      ]
    },
    {
      "cell_type": "markdown",
      "metadata": {
        "id": "kklgY_1jQZx2"
      },
      "source": [
        "Бинаризуем оставшиеся категориальные признаки"
      ]
    },
    {
      "cell_type": "code",
      "metadata": {
        "colab": {
          "base_uri": "https://localhost:8080/",
          "height": 241
        },
        "id": "Ik678NtzQd9e",
        "outputId": "209173e8-43fc-4425-c213-0f5204f862f1"
      },
      "source": [
        "data = pd.get_dummies(data, categorial_columns)\n",
        "data.head()"
      ],
      "execution_count": null,
      "outputs": [
        {
          "output_type": "execute_result",
          "data": {
            "text/html": [
              "<div>\n",
              "<style scoped>\n",
              "    .dataframe tbody tr th:only-of-type {\n",
              "        vertical-align: middle;\n",
              "    }\n",
              "\n",
              "    .dataframe tbody tr th {\n",
              "        vertical-align: top;\n",
              "    }\n",
              "\n",
              "    .dataframe thead th {\n",
              "        text-align: right;\n",
              "    }\n",
              "</style>\n",
              "<table border=\"1\" class=\"dataframe\">\n",
              "  <thead>\n",
              "    <tr style=\"text-align: right;\">\n",
              "      <th></th>\n",
              "      <th>Год начала работы</th>\n",
              "      <th>Уровень оплаты</th>\n",
              "      <th>Возраст</th>\n",
              "      <th>Отстранения</th>\n",
              "      <th>Опыт</th>\n",
              "      <th>Увольнение</th>\n",
              "      <th>Образование_Bachelors</th>\n",
              "      <th>Образование_Masters</th>\n",
              "      <th>Образование_PHD</th>\n",
              "      <th>Город_Bangalore</th>\n",
              "      <th>Город_New Delhi</th>\n",
              "      <th>Город_Pune</th>\n",
              "      <th>Пол_Female</th>\n",
              "      <th>Пол_Male</th>\n",
              "    </tr>\n",
              "  </thead>\n",
              "  <tbody>\n",
              "    <tr>\n",
              "      <th>0</th>\n",
              "      <td>2013</td>\n",
              "      <td>3</td>\n",
              "      <td>30</td>\n",
              "      <td>0</td>\n",
              "      <td>5</td>\n",
              "      <td>0</td>\n",
              "      <td>0</td>\n",
              "      <td>0</td>\n",
              "      <td>1</td>\n",
              "      <td>0</td>\n",
              "      <td>1</td>\n",
              "      <td>0</td>\n",
              "      <td>0</td>\n",
              "      <td>1</td>\n",
              "    </tr>\n",
              "    <tr>\n",
              "      <th>1</th>\n",
              "      <td>2018</td>\n",
              "      <td>3</td>\n",
              "      <td>25</td>\n",
              "      <td>0</td>\n",
              "      <td>3</td>\n",
              "      <td>1</td>\n",
              "      <td>1</td>\n",
              "      <td>0</td>\n",
              "      <td>0</td>\n",
              "      <td>1</td>\n",
              "      <td>0</td>\n",
              "      <td>0</td>\n",
              "      <td>0</td>\n",
              "      <td>1</td>\n",
              "    </tr>\n",
              "    <tr>\n",
              "      <th>2</th>\n",
              "      <td>2017</td>\n",
              "      <td>3</td>\n",
              "      <td>26</td>\n",
              "      <td>0</td>\n",
              "      <td>4</td>\n",
              "      <td>1</td>\n",
              "      <td>0</td>\n",
              "      <td>1</td>\n",
              "      <td>0</td>\n",
              "      <td>0</td>\n",
              "      <td>1</td>\n",
              "      <td>0</td>\n",
              "      <td>0</td>\n",
              "      <td>1</td>\n",
              "    </tr>\n",
              "    <tr>\n",
              "      <th>3</th>\n",
              "      <td>2012</td>\n",
              "      <td>1</td>\n",
              "      <td>38</td>\n",
              "      <td>0</td>\n",
              "      <td>5</td>\n",
              "      <td>0</td>\n",
              "      <td>0</td>\n",
              "      <td>0</td>\n",
              "      <td>1</td>\n",
              "      <td>1</td>\n",
              "      <td>0</td>\n",
              "      <td>0</td>\n",
              "      <td>0</td>\n",
              "      <td>1</td>\n",
              "    </tr>\n",
              "    <tr>\n",
              "      <th>4</th>\n",
              "      <td>2018</td>\n",
              "      <td>3</td>\n",
              "      <td>27</td>\n",
              "      <td>0</td>\n",
              "      <td>5</td>\n",
              "      <td>1</td>\n",
              "      <td>0</td>\n",
              "      <td>0</td>\n",
              "      <td>1</td>\n",
              "      <td>0</td>\n",
              "      <td>1</td>\n",
              "      <td>0</td>\n",
              "      <td>1</td>\n",
              "      <td>0</td>\n",
              "    </tr>\n",
              "  </tbody>\n",
              "</table>\n",
              "</div>"
            ],
            "text/plain": [
              "   Год начала работы  Уровень оплаты  Возраст  ...  Город_Pune  Пол_Female  Пол_Male\n",
              "0               2013               3       30  ...           0           0         1\n",
              "1               2018               3       25  ...           0           0         1\n",
              "2               2017               3       26  ...           0           0         1\n",
              "3               2012               1       38  ...           0           0         1\n",
              "4               2018               3       27  ...           0           1         0\n",
              "\n",
              "[5 rows x 14 columns]"
            ]
          },
          "metadata": {},
          "execution_count": 82
        }
      ]
    },
    {
      "cell_type": "markdown",
      "metadata": {
        "id": "s1MXXj0mQ11S"
      },
      "source": [
        "Поделим данные на признаки(X) и целевую переменную(y)"
      ]
    },
    {
      "cell_type": "code",
      "metadata": {
        "id": "iuHAMcp5RAE1"
      },
      "source": [
        "y = data['Увольнение']\n",
        "X = data.drop('Увольнение', axis=1)"
      ],
      "execution_count": null,
      "outputs": []
    },
    {
      "cell_type": "markdown",
      "metadata": {
        "id": "q0fwflOzRR7x"
      },
      "source": [
        "Строим модель"
      ]
    },
    {
      "cell_type": "code",
      "metadata": {
        "id": "G3QwFQb-RTd8"
      },
      "source": [
        "from sklearn import ensemble #, classifier_model\n",
        "from sklearn.model_selection import cross_val_score\n",
        "from sklearn.metrics import mean_squared_error"
      ],
      "execution_count": null,
      "outputs": []
    },
    {
      "cell_type": "code",
      "metadata": {
        "id": "apC5N0T-Rt0m"
      },
      "source": [
        "rf = ensemble.RandomForestClassifier(n_estimators=100, max_depth=10, min_samples_split=7)"
      ],
      "execution_count": null,
      "outputs": []
    },
    {
      "cell_type": "code",
      "metadata": {
        "colab": {
          "base_uri": "https://localhost:8080/"
        },
        "id": "YrsjtoEQSSvJ",
        "outputId": "29b43448-875f-441d-f1f8-f70e29c64606"
      },
      "source": [
        "rf.fit(X,y)"
      ],
      "execution_count": null,
      "outputs": [
        {
          "output_type": "execute_result",
          "data": {
            "text/plain": [
              "GradientBoostingClassifier(ccp_alpha=0.0, criterion='friedman_mse', init=None,\n",
              "                           learning_rate=0.1, loss='deviance', max_depth=5,\n",
              "                           max_features=None, max_leaf_nodes=None,\n",
              "                           min_impurity_decrease=0.0, min_impurity_split=None,\n",
              "                           min_samples_leaf=1, min_samples_split=10,\n",
              "                           min_weight_fraction_leaf=0.0, n_estimators=500,\n",
              "                           n_iter_no_change=None, presort='deprecated',\n",
              "                           random_state=None, subsample=1.0, tol=0.0001,\n",
              "                           validation_fraction=0.1, verbose=0,\n",
              "                           warm_start=False)"
            ]
          },
          "metadata": {},
          "execution_count": 86
        }
      ]
    },
    {
      "cell_type": "markdown",
      "metadata": {
        "id": "dmVbO1xXS4tC"
      },
      "source": [
        "Предобрабатываем тестовые данные"
      ]
    },
    {
      "cell_type": "code",
      "metadata": {
        "colab": {
          "base_uri": "https://localhost:8080/",
          "height": 206
        },
        "id": "3xMU_dUnS9Lx",
        "outputId": "a279c502-494d-40ae-ae41-1e454486b19d"
      },
      "source": [
        "test_data = pd.read_csv('./employee_leave_test.csv').drop('Unnamed: 0', axis=1)\n",
        "test_data.head()"
      ],
      "execution_count": null,
      "outputs": [
        {
          "output_type": "execute_result",
          "data": {
            "text/html": [
              "<div>\n",
              "<style scoped>\n",
              "    .dataframe tbody tr th:only-of-type {\n",
              "        vertical-align: middle;\n",
              "    }\n",
              "\n",
              "    .dataframe tbody tr th {\n",
              "        vertical-align: top;\n",
              "    }\n",
              "\n",
              "    .dataframe thead th {\n",
              "        text-align: right;\n",
              "    }\n",
              "</style>\n",
              "<table border=\"1\" class=\"dataframe\">\n",
              "  <thead>\n",
              "    <tr style=\"text-align: right;\">\n",
              "      <th></th>\n",
              "      <th>Образование</th>\n",
              "      <th>Год начала работы</th>\n",
              "      <th>Город</th>\n",
              "      <th>Уровень оплаты</th>\n",
              "      <th>Возраст</th>\n",
              "      <th>Пол</th>\n",
              "      <th>Отстранения</th>\n",
              "      <th>Опыт</th>\n",
              "    </tr>\n",
              "  </thead>\n",
              "  <tbody>\n",
              "    <tr>\n",
              "      <th>0</th>\n",
              "      <td>Masters</td>\n",
              "      <td>2017</td>\n",
              "      <td>New Delhi</td>\n",
              "      <td>2</td>\n",
              "      <td>36</td>\n",
              "      <td>Male</td>\n",
              "      <td>Yes</td>\n",
              "      <td>2</td>\n",
              "    </tr>\n",
              "    <tr>\n",
              "      <th>1</th>\n",
              "      <td>Masters</td>\n",
              "      <td>2015</td>\n",
              "      <td>Bangalore</td>\n",
              "      <td>3</td>\n",
              "      <td>27</td>\n",
              "      <td>Female</td>\n",
              "      <td>No</td>\n",
              "      <td>5</td>\n",
              "    </tr>\n",
              "    <tr>\n",
              "      <th>2</th>\n",
              "      <td>Masters</td>\n",
              "      <td>2017</td>\n",
              "      <td>New Delhi</td>\n",
              "      <td>2</td>\n",
              "      <td>33</td>\n",
              "      <td>Male</td>\n",
              "      <td>No</td>\n",
              "      <td>2</td>\n",
              "    </tr>\n",
              "    <tr>\n",
              "      <th>3</th>\n",
              "      <td>Bachelors</td>\n",
              "      <td>2015</td>\n",
              "      <td>Bangalore</td>\n",
              "      <td>1</td>\n",
              "      <td>25</td>\n",
              "      <td>Female</td>\n",
              "      <td>Yes</td>\n",
              "      <td>3</td>\n",
              "    </tr>\n",
              "    <tr>\n",
              "      <th>4</th>\n",
              "      <td>Bachelors</td>\n",
              "      <td>2015</td>\n",
              "      <td>Pune</td>\n",
              "      <td>3</td>\n",
              "      <td>24</td>\n",
              "      <td>Female</td>\n",
              "      <td>No</td>\n",
              "      <td>2</td>\n",
              "    </tr>\n",
              "  </tbody>\n",
              "</table>\n",
              "</div>"
            ],
            "text/plain": [
              "  Образование  Год начала работы      Город  ...     Пол  Отстранения Опыт\n",
              "0     Masters               2017  New Delhi  ...    Male          Yes    2\n",
              "1     Masters               2015  Bangalore  ...  Female           No    5\n",
              "2     Masters               2017  New Delhi  ...    Male           No    2\n",
              "3   Bachelors               2015  Bangalore  ...  Female          Yes    3\n",
              "4   Bachelors               2015       Pune  ...  Female           No    2\n",
              "\n",
              "[5 rows x 8 columns]"
            ]
          },
          "metadata": {},
          "execution_count": 16
        }
      ]
    },
    {
      "cell_type": "code",
      "metadata": {
        "colab": {
          "base_uri": "https://localhost:8080/"
        },
        "id": "eT9-_JFNTXKc",
        "outputId": "2ecc7562-3221-4597-beda-507da7d64f42"
      },
      "source": [
        "test_data.info()"
      ],
      "execution_count": null,
      "outputs": [
        {
          "output_type": "stream",
          "name": "stdout",
          "text": [
            "<class 'pandas.core.frame.DataFrame'>\n",
            "RangeIndex: 500 entries, 0 to 499\n",
            "Data columns (total 8 columns):\n",
            " #   Column             Non-Null Count  Dtype \n",
            "---  ------             --------------  ----- \n",
            " 0   Образование        500 non-null    object\n",
            " 1   Год начала работы  500 non-null    int64 \n",
            " 2   Город              500 non-null    object\n",
            " 3   Уровень оплаты     500 non-null    int64 \n",
            " 4   Возраст            500 non-null    int64 \n",
            " 5   Пол                500 non-null    object\n",
            " 6   Отстранения        500 non-null    object\n",
            " 7   Опыт               500 non-null    int64 \n",
            "dtypes: int64(4), object(4)\n",
            "memory usage: 31.4+ KB\n"
          ]
        }
      ]
    },
    {
      "cell_type": "code",
      "metadata": {
        "colab": {
          "base_uri": "https://localhost:8080/"
        },
        "id": "EYDDXGaJTwfG",
        "outputId": "abd35cab-003c-48da-c8bb-049b008ee852"
      },
      "source": [
        "test_data['Образование'].value_counts()"
      ],
      "execution_count": null,
      "outputs": [
        {
          "output_type": "execute_result",
          "data": {
            "text/plain": [
              "Bachelors    397\n",
              "Masters       82\n",
              "PHD           21\n",
              "Name: Образование, dtype: int64"
            ]
          },
          "metadata": {},
          "execution_count": 18
        }
      ]
    },
    {
      "cell_type": "code",
      "metadata": {
        "colab": {
          "base_uri": "https://localhost:8080/"
        },
        "id": "eaEt1lrdT8DV",
        "outputId": "78548815-db1b-4078-cdc7-60d8a2bedffc"
      },
      "source": [
        "test_data['Город'].value_counts()"
      ],
      "execution_count": null,
      "outputs": [
        {
          "output_type": "execute_result",
          "data": {
            "text/plain": [
              "Bangalore    259\n",
              "Pune         138\n",
              "New Delhi    103\n",
              "Name: Город, dtype: int64"
            ]
          },
          "metadata": {},
          "execution_count": 19
        }
      ]
    },
    {
      "cell_type": "code",
      "metadata": {
        "colab": {
          "base_uri": "https://localhost:8080/"
        },
        "id": "gybVL7lBUBL6",
        "outputId": "28fb55cd-6ce9-45bf-c994-ddabf780546d"
      },
      "source": [
        "test_data['Отстранения'].value_counts()"
      ],
      "execution_count": null,
      "outputs": [
        {
          "output_type": "execute_result",
          "data": {
            "text/plain": [
              "No     454\n",
              "Yes     46\n",
              "Name: Отстранения, dtype: int64"
            ]
          },
          "metadata": {},
          "execution_count": 20
        }
      ]
    },
    {
      "cell_type": "code",
      "metadata": {
        "colab": {
          "base_uri": "https://localhost:8080/"
        },
        "id": "Na0UV6-2UFBR",
        "outputId": "9d9c4e84-3a63-4a83-ae2d-c8d5c6705694"
      },
      "source": [
        "test_data['Пол'].value_counts()"
      ],
      "execution_count": null,
      "outputs": [
        {
          "output_type": "execute_result",
          "data": {
            "text/plain": [
              "Male      297\n",
              "Female    203\n",
              "Name: Пол, dtype: int64"
            ]
          },
          "metadata": {},
          "execution_count": 21
        }
      ]
    },
    {
      "cell_type": "code",
      "metadata": {
        "colab": {
          "base_uri": "https://localhost:8080/",
          "height": 206
        },
        "id": "S-CaEJIwUNLK",
        "outputId": "46e7a3a0-74f7-4ef9-bccc-8701844b45b2"
      },
      "source": [
        "test_data['Отстранения'] = test_data['Отстранения'].apply(lambda x: 1 if x=='Yes' else 0)\n",
        "test_data.head()"
      ],
      "execution_count": null,
      "outputs": [
        {
          "output_type": "execute_result",
          "data": {
            "text/html": [
              "<div>\n",
              "<style scoped>\n",
              "    .dataframe tbody tr th:only-of-type {\n",
              "        vertical-align: middle;\n",
              "    }\n",
              "\n",
              "    .dataframe tbody tr th {\n",
              "        vertical-align: top;\n",
              "    }\n",
              "\n",
              "    .dataframe thead th {\n",
              "        text-align: right;\n",
              "    }\n",
              "</style>\n",
              "<table border=\"1\" class=\"dataframe\">\n",
              "  <thead>\n",
              "    <tr style=\"text-align: right;\">\n",
              "      <th></th>\n",
              "      <th>Образование</th>\n",
              "      <th>Год начала работы</th>\n",
              "      <th>Город</th>\n",
              "      <th>Уровень оплаты</th>\n",
              "      <th>Возраст</th>\n",
              "      <th>Пол</th>\n",
              "      <th>Отстранения</th>\n",
              "      <th>Опыт</th>\n",
              "    </tr>\n",
              "  </thead>\n",
              "  <tbody>\n",
              "    <tr>\n",
              "      <th>0</th>\n",
              "      <td>Masters</td>\n",
              "      <td>2017</td>\n",
              "      <td>New Delhi</td>\n",
              "      <td>2</td>\n",
              "      <td>36</td>\n",
              "      <td>Male</td>\n",
              "      <td>1</td>\n",
              "      <td>2</td>\n",
              "    </tr>\n",
              "    <tr>\n",
              "      <th>1</th>\n",
              "      <td>Masters</td>\n",
              "      <td>2015</td>\n",
              "      <td>Bangalore</td>\n",
              "      <td>3</td>\n",
              "      <td>27</td>\n",
              "      <td>Female</td>\n",
              "      <td>0</td>\n",
              "      <td>5</td>\n",
              "    </tr>\n",
              "    <tr>\n",
              "      <th>2</th>\n",
              "      <td>Masters</td>\n",
              "      <td>2017</td>\n",
              "      <td>New Delhi</td>\n",
              "      <td>2</td>\n",
              "      <td>33</td>\n",
              "      <td>Male</td>\n",
              "      <td>0</td>\n",
              "      <td>2</td>\n",
              "    </tr>\n",
              "    <tr>\n",
              "      <th>3</th>\n",
              "      <td>Bachelors</td>\n",
              "      <td>2015</td>\n",
              "      <td>Bangalore</td>\n",
              "      <td>1</td>\n",
              "      <td>25</td>\n",
              "      <td>Female</td>\n",
              "      <td>1</td>\n",
              "      <td>3</td>\n",
              "    </tr>\n",
              "    <tr>\n",
              "      <th>4</th>\n",
              "      <td>Bachelors</td>\n",
              "      <td>2015</td>\n",
              "      <td>Pune</td>\n",
              "      <td>3</td>\n",
              "      <td>24</td>\n",
              "      <td>Female</td>\n",
              "      <td>0</td>\n",
              "      <td>2</td>\n",
              "    </tr>\n",
              "  </tbody>\n",
              "</table>\n",
              "</div>"
            ],
            "text/plain": [
              "  Образование  Год начала работы      Город  ...     Пол  Отстранения Опыт\n",
              "0     Masters               2017  New Delhi  ...    Male            1    2\n",
              "1     Masters               2015  Bangalore  ...  Female            0    5\n",
              "2     Masters               2017  New Delhi  ...    Male            0    2\n",
              "3   Bachelors               2015  Bangalore  ...  Female            1    3\n",
              "4   Bachelors               2015       Pune  ...  Female            0    2\n",
              "\n",
              "[5 rows x 8 columns]"
            ]
          },
          "metadata": {},
          "execution_count": 22
        }
      ]
    },
    {
      "cell_type": "code",
      "metadata": {
        "colab": {
          "base_uri": "https://localhost:8080/"
        },
        "id": "Q-RLEOuCUxLa",
        "outputId": "4d4970c2-816f-4acf-b765-591b2e89b7d0"
      },
      "source": [
        "categorial_columns = [x for x in test_data.columns if test_data[x].dtype =='object']\n",
        "categorial_columns"
      ],
      "execution_count": null,
      "outputs": [
        {
          "output_type": "execute_result",
          "data": {
            "text/plain": [
              "['Образование', 'Город', 'Пол']"
            ]
          },
          "metadata": {},
          "execution_count": 23
        }
      ]
    },
    {
      "cell_type": "code",
      "metadata": {
        "colab": {
          "base_uri": "https://localhost:8080/",
          "height": 224
        },
        "id": "h2L9wjBnUZj7",
        "outputId": "0cdebee9-ca93-452f-d26e-d76493778585"
      },
      "source": [
        "test_data = pd.get_dummies(test_data, categorial_columns)\n",
        "test_data.head()"
      ],
      "execution_count": null,
      "outputs": [
        {
          "output_type": "execute_result",
          "data": {
            "text/html": [
              "<div>\n",
              "<style scoped>\n",
              "    .dataframe tbody tr th:only-of-type {\n",
              "        vertical-align: middle;\n",
              "    }\n",
              "\n",
              "    .dataframe tbody tr th {\n",
              "        vertical-align: top;\n",
              "    }\n",
              "\n",
              "    .dataframe thead th {\n",
              "        text-align: right;\n",
              "    }\n",
              "</style>\n",
              "<table border=\"1\" class=\"dataframe\">\n",
              "  <thead>\n",
              "    <tr style=\"text-align: right;\">\n",
              "      <th></th>\n",
              "      <th>Год начала работы</th>\n",
              "      <th>Уровень оплаты</th>\n",
              "      <th>Возраст</th>\n",
              "      <th>Отстранения</th>\n",
              "      <th>Опыт</th>\n",
              "      <th>Образование_Bachelors</th>\n",
              "      <th>Образование_Masters</th>\n",
              "      <th>Образование_PHD</th>\n",
              "      <th>Город_Bangalore</th>\n",
              "      <th>Город_New Delhi</th>\n",
              "      <th>Город_Pune</th>\n",
              "      <th>Пол_Female</th>\n",
              "      <th>Пол_Male</th>\n",
              "    </tr>\n",
              "  </thead>\n",
              "  <tbody>\n",
              "    <tr>\n",
              "      <th>0</th>\n",
              "      <td>2017</td>\n",
              "      <td>2</td>\n",
              "      <td>36</td>\n",
              "      <td>1</td>\n",
              "      <td>2</td>\n",
              "      <td>0</td>\n",
              "      <td>1</td>\n",
              "      <td>0</td>\n",
              "      <td>0</td>\n",
              "      <td>1</td>\n",
              "      <td>0</td>\n",
              "      <td>0</td>\n",
              "      <td>1</td>\n",
              "    </tr>\n",
              "    <tr>\n",
              "      <th>1</th>\n",
              "      <td>2015</td>\n",
              "      <td>3</td>\n",
              "      <td>27</td>\n",
              "      <td>0</td>\n",
              "      <td>5</td>\n",
              "      <td>0</td>\n",
              "      <td>1</td>\n",
              "      <td>0</td>\n",
              "      <td>1</td>\n",
              "      <td>0</td>\n",
              "      <td>0</td>\n",
              "      <td>1</td>\n",
              "      <td>0</td>\n",
              "    </tr>\n",
              "    <tr>\n",
              "      <th>2</th>\n",
              "      <td>2017</td>\n",
              "      <td>2</td>\n",
              "      <td>33</td>\n",
              "      <td>0</td>\n",
              "      <td>2</td>\n",
              "      <td>0</td>\n",
              "      <td>1</td>\n",
              "      <td>0</td>\n",
              "      <td>0</td>\n",
              "      <td>1</td>\n",
              "      <td>0</td>\n",
              "      <td>0</td>\n",
              "      <td>1</td>\n",
              "    </tr>\n",
              "    <tr>\n",
              "      <th>3</th>\n",
              "      <td>2015</td>\n",
              "      <td>1</td>\n",
              "      <td>25</td>\n",
              "      <td>1</td>\n",
              "      <td>3</td>\n",
              "      <td>1</td>\n",
              "      <td>0</td>\n",
              "      <td>0</td>\n",
              "      <td>1</td>\n",
              "      <td>0</td>\n",
              "      <td>0</td>\n",
              "      <td>1</td>\n",
              "      <td>0</td>\n",
              "    </tr>\n",
              "    <tr>\n",
              "      <th>4</th>\n",
              "      <td>2015</td>\n",
              "      <td>3</td>\n",
              "      <td>24</td>\n",
              "      <td>0</td>\n",
              "      <td>2</td>\n",
              "      <td>1</td>\n",
              "      <td>0</td>\n",
              "      <td>0</td>\n",
              "      <td>0</td>\n",
              "      <td>0</td>\n",
              "      <td>1</td>\n",
              "      <td>1</td>\n",
              "      <td>0</td>\n",
              "    </tr>\n",
              "  </tbody>\n",
              "</table>\n",
              "</div>"
            ],
            "text/plain": [
              "   Год начала работы  Уровень оплаты  Возраст  ...  Город_Pune  Пол_Female  Пол_Male\n",
              "0               2017               2       36  ...           0           0         1\n",
              "1               2015               3       27  ...           0           1         0\n",
              "2               2017               2       33  ...           0           0         1\n",
              "3               2015               1       25  ...           0           1         0\n",
              "4               2015               3       24  ...           1           1         0\n",
              "\n",
              "[5 rows x 13 columns]"
            ]
          },
          "metadata": {},
          "execution_count": 92
        }
      ]
    },
    {
      "cell_type": "code",
      "metadata": {
        "colab": {
          "base_uri": "https://localhost:8080/"
        },
        "id": "xJvMf2BTVa8e",
        "outputId": "e1c1c800-3aa6-4d5c-95b4-9eed72c9bcdc"
      },
      "source": [
        "data.shape, test_data.shape"
      ],
      "execution_count": null,
      "outputs": [
        {
          "output_type": "execute_result",
          "data": {
            "text/plain": [
              "((4153, 9), (500, 8))"
            ]
          },
          "metadata": {},
          "execution_count": 24
        }
      ]
    },
    {
      "cell_type": "markdown",
      "metadata": {
        "id": "lQF7mOgRWEei"
      },
      "source": [
        "Получаем предсказания моделей"
      ]
    },
    {
      "cell_type": "code",
      "metadata": {
        "id": "5KNcuuIUV3uu"
      },
      "source": [
        "y_test_rf = rf.predict(test_data)"
      ],
      "execution_count": null,
      "outputs": []
    },
    {
      "cell_type": "code",
      "metadata": {
        "colab": {
          "base_uri": "https://localhost:8080/"
        },
        "id": "ZARaaF35W4jh",
        "outputId": "fea9702d-79a7-44f1-db2a-446521b1d313"
      },
      "source": [
        "y_test_rf"
      ],
      "execution_count": null,
      "outputs": [
        {
          "output_type": "execute_result",
          "data": {
            "text/plain": [
              "array([0, 1, 0, 0, 1, 0, 0, 0, 0, 0, 0, 1, 1, 0, 1, 0, 0, 0, 1, 1, 0, 0,\n",
              "       1, 0, 0, 1, 0, 1, 0, 0, 1, 0, 0, 0, 0, 0, 0, 1, 0, 0, 1, 1, 1, 0,\n",
              "       0, 0, 0, 1, 0, 0, 0, 0, 0, 1, 0, 0, 0, 0, 1, 1, 1, 0, 0, 0, 0, 0,\n",
              "       1, 0, 0, 0, 0, 0, 1, 0, 0, 0, 0, 0, 0, 0, 0, 0, 1, 0, 0, 0, 0, 0,\n",
              "       0, 0, 0, 0, 0, 1, 1, 0, 0, 1, 1, 0, 1, 1, 0, 0, 0, 1, 0, 0, 0, 0,\n",
              "       1, 0, 0, 1, 0, 1, 0, 0, 0, 0, 1, 0, 1, 0, 0, 0, 0, 1, 0, 0, 0, 0,\n",
              "       0, 0, 0, 0, 1, 0, 1, 0, 0, 1, 0, 0, 1, 0, 1, 0, 0, 1, 1, 1, 1, 0,\n",
              "       0, 1, 0, 1, 0, 0, 0, 0, 0, 1, 1, 0, 1, 1, 0, 0, 0, 1, 1, 0, 1, 0,\n",
              "       1, 1, 0, 0, 0, 0, 0, 0, 0, 0, 0, 1, 0, 1, 0, 0, 0, 0, 0, 0, 0, 1,\n",
              "       0, 0, 0, 0, 0, 0, 0, 0, 1, 1, 0, 1, 1, 0, 1, 0, 0, 0, 1, 0, 0, 0,\n",
              "       1, 0, 0, 0, 0, 0, 0, 0, 0, 0, 0, 0, 1, 0, 1, 0, 1, 0, 0, 1, 0, 0,\n",
              "       1, 1, 1, 0, 0, 0, 0, 0, 0, 0, 0, 0, 0, 0, 0, 1, 0, 0, 1, 0, 0, 0,\n",
              "       0, 0, 0, 0, 0, 1, 1, 0, 0, 0, 0, 0, 0, 0, 0, 0, 0, 0, 1, 0, 0, 1,\n",
              "       0, 0, 1, 0, 0, 1, 0, 0, 0, 0, 0, 0, 1, 0, 0, 0, 1, 0, 0, 0, 0, 0,\n",
              "       1, 0, 0, 0, 0, 0, 0, 0, 1, 0, 0, 1, 0, 0, 0, 0, 0, 0, 0, 1, 0, 0,\n",
              "       1, 0, 0, 0, 0, 0, 0, 1, 0, 1, 0, 0, 1, 0, 0, 0, 0, 0, 0, 0, 0, 1,\n",
              "       1, 0, 0, 0, 0, 0, 0, 0, 0, 0, 1, 0, 0, 0, 1, 0, 0, 0, 0, 0, 0, 0,\n",
              "       0, 0, 0, 0, 1, 0, 1, 0, 1, 1, 0, 0, 0, 0, 1, 0, 1, 0, 0, 0, 0, 0,\n",
              "       0, 1, 1, 0, 0, 1, 0, 1, 0, 0, 0, 0, 1, 0, 0, 0, 0, 0, 1, 0, 0, 0,\n",
              "       0, 1, 0, 0, 0, 1, 1, 0, 0, 0, 1, 0, 1, 0, 0, 0, 0, 1, 0, 0, 0, 0,\n",
              "       0, 0, 1, 0, 1, 0, 1, 0, 1, 1, 0, 0, 1, 0, 0, 0, 0, 0, 0, 0, 0, 0,\n",
              "       0, 1, 0, 0, 0, 0, 0, 0, 0, 0, 1, 0, 0, 1, 0, 0, 0, 0, 1, 0, 0, 0,\n",
              "       0, 0, 0, 0, 1, 1, 0, 0, 0, 0, 1, 0, 0, 0, 0, 1])"
            ]
          },
          "metadata": {},
          "execution_count": 103
        }
      ]
    },
    {
      "cell_type": "code",
      "metadata": {
        "id": "GcsXvTIoag5K"
      },
      "source": [
        "df = pd.DataFrame(y_test_rf)\n",
        "df.to_csv('test_ans.csv')"
      ],
      "execution_count": null,
      "outputs": []
    },
    {
      "cell_type": "code",
      "metadata": {
        "id": "YnPke3qpj0-r"
      },
      "source": [
        "import csv"
      ],
      "execution_count": null,
      "outputs": []
    },
    {
      "cell_type": "code",
      "metadata": {
        "id": "0gqzu7Iuj3Sw"
      },
      "source": [
        "with open('outputFile1.csv', 'w', newline='') as csvfile:\n",
        "    writer = csv.writer(csvfile, delimiter=',')\n",
        "    for row in range(0,y_test_gb.shape[0]):\n",
        "        myList = []\n",
        "        myList.append(y_test_gb[row])\n",
        "        writer.writerow(myList)"
      ],
      "execution_count": null,
      "outputs": []
    },
    {
      "cell_type": "code",
      "metadata": {
        "colab": {
          "base_uri": "https://localhost:8080/",
          "height": 206
        },
        "id": "LracaYY1bncH",
        "outputId": "0f4110db-dc36-4783-f33f-ae93941b23e5"
      },
      "source": [
        "data1 = pd.read_csv(\"./outputFile.csv\")\n",
        "data1.head()"
      ],
      "execution_count": null,
      "outputs": [
        {
          "output_type": "execute_result",
          "data": {
            "text/html": [
              "<div>\n",
              "<style scoped>\n",
              "    .dataframe tbody tr th:only-of-type {\n",
              "        vertical-align: middle;\n",
              "    }\n",
              "\n",
              "    .dataframe tbody tr th {\n",
              "        vertical-align: top;\n",
              "    }\n",
              "\n",
              "    .dataframe thead th {\n",
              "        text-align: right;\n",
              "    }\n",
              "</style>\n",
              "<table border=\"1\" class=\"dataframe\">\n",
              "  <thead>\n",
              "    <tr style=\"text-align: right;\">\n",
              "      <th></th>\n",
              "      <th>0</th>\n",
              "    </tr>\n",
              "  </thead>\n",
              "  <tbody>\n",
              "    <tr>\n",
              "      <th>0</th>\n",
              "      <td>1</td>\n",
              "    </tr>\n",
              "    <tr>\n",
              "      <th>1</th>\n",
              "      <td>0</td>\n",
              "    </tr>\n",
              "    <tr>\n",
              "      <th>2</th>\n",
              "      <td>0</td>\n",
              "    </tr>\n",
              "    <tr>\n",
              "      <th>3</th>\n",
              "      <td>1</td>\n",
              "    </tr>\n",
              "    <tr>\n",
              "      <th>4</th>\n",
              "      <td>0</td>\n",
              "    </tr>\n",
              "  </tbody>\n",
              "</table>\n",
              "</div>"
            ],
            "text/plain": [
              "   0\n",
              "0  1\n",
              "1  0\n",
              "2  0\n",
              "3  1\n",
              "4  0"
            ]
          },
          "metadata": {},
          "execution_count": 121
        }
      ]
    },
    {
      "cell_type": "code",
      "metadata": {
        "id": "YybVIIVHb5J1"
      },
      "source": [
        "data1.to_csv('answers.csv')"
      ],
      "execution_count": null,
      "outputs": []
    },
    {
      "cell_type": "code",
      "metadata": {
        "colab": {
          "base_uri": "https://localhost:8080/",
          "height": 206
        },
        "id": "QCfSvTclcSVU",
        "outputId": "0150ff84-5b3e-4000-df7c-0a2cb4f9830b"
      },
      "source": [
        "data2 = pd.read_csv(\"./answers.csv\")\n",
        "data2.head()"
      ],
      "execution_count": null,
      "outputs": [
        {
          "output_type": "execute_result",
          "data": {
            "text/html": [
              "<div>\n",
              "<style scoped>\n",
              "    .dataframe tbody tr th:only-of-type {\n",
              "        vertical-align: middle;\n",
              "    }\n",
              "\n",
              "    .dataframe tbody tr th {\n",
              "        vertical-align: top;\n",
              "    }\n",
              "\n",
              "    .dataframe thead th {\n",
              "        text-align: right;\n",
              "    }\n",
              "</style>\n",
              "<table border=\"1\" class=\"dataframe\">\n",
              "  <thead>\n",
              "    <tr style=\"text-align: right;\">\n",
              "      <th></th>\n",
              "      <th>Unnamed: 0</th>\n",
              "      <th>0</th>\n",
              "    </tr>\n",
              "  </thead>\n",
              "  <tbody>\n",
              "    <tr>\n",
              "      <th>0</th>\n",
              "      <td>0</td>\n",
              "      <td>0</td>\n",
              "    </tr>\n",
              "    <tr>\n",
              "      <th>1</th>\n",
              "      <td>1</td>\n",
              "      <td>1</td>\n",
              "    </tr>\n",
              "    <tr>\n",
              "      <th>2</th>\n",
              "      <td>2</td>\n",
              "      <td>0</td>\n",
              "    </tr>\n",
              "    <tr>\n",
              "      <th>3</th>\n",
              "      <td>3</td>\n",
              "      <td>0</td>\n",
              "    </tr>\n",
              "    <tr>\n",
              "      <th>4</th>\n",
              "      <td>4</td>\n",
              "      <td>1</td>\n",
              "    </tr>\n",
              "  </tbody>\n",
              "</table>\n",
              "</div>"
            ],
            "text/plain": [
              "   Unnamed: 0  0\n",
              "0           0  0\n",
              "1           1  1\n",
              "2           2  0\n",
              "3           3  0\n",
              "4           4  1"
            ]
          },
          "metadata": {},
          "execution_count": 109
        }
      ]
    },
    {
      "cell_type": "markdown",
      "metadata": {
        "id": "yEFY57QrI07N"
      },
      "source": [
        "#Пробуем CatBoost#"
      ]
    },
    {
      "cell_type": "code",
      "metadata": {
        "colab": {
          "base_uri": "https://localhost:8080/"
        },
        "id": "CdF_et0vIxM2",
        "outputId": "6f08bffb-676f-4e08-9fbc-bf592029579f"
      },
      "source": [
        "pip install catboost"
      ],
      "execution_count": null,
      "outputs": [
        {
          "output_type": "stream",
          "name": "stdout",
          "text": [
            "Collecting catboost\n",
            "  Downloading catboost-1.0.0-cp37-none-manylinux1_x86_64.whl (76.4 MB)\n",
            "\u001b[K     |████████████████████████████████| 76.4 MB 22 kB/s \n",
            "\u001b[?25hRequirement already satisfied: scipy in /usr/local/lib/python3.7/dist-packages (from catboost) (1.4.1)\n",
            "Requirement already satisfied: numpy>=1.16.0 in /usr/local/lib/python3.7/dist-packages (from catboost) (1.19.5)\n",
            "Requirement already satisfied: six in /usr/local/lib/python3.7/dist-packages (from catboost) (1.15.0)\n",
            "Requirement already satisfied: matplotlib in /usr/local/lib/python3.7/dist-packages (from catboost) (3.2.2)\n",
            "Requirement already satisfied: plotly in /usr/local/lib/python3.7/dist-packages (from catboost) (4.4.1)\n",
            "Requirement already satisfied: pandas>=0.24.0 in /usr/local/lib/python3.7/dist-packages (from catboost) (1.1.5)\n",
            "Requirement already satisfied: graphviz in /usr/local/lib/python3.7/dist-packages (from catboost) (0.10.1)\n",
            "Requirement already satisfied: pytz>=2017.2 in /usr/local/lib/python3.7/dist-packages (from pandas>=0.24.0->catboost) (2018.9)\n",
            "Requirement already satisfied: python-dateutil>=2.7.3 in /usr/local/lib/python3.7/dist-packages (from pandas>=0.24.0->catboost) (2.8.2)\n",
            "Requirement already satisfied: kiwisolver>=1.0.1 in /usr/local/lib/python3.7/dist-packages (from matplotlib->catboost) (1.3.2)\n",
            "Requirement already satisfied: cycler>=0.10 in /usr/local/lib/python3.7/dist-packages (from matplotlib->catboost) (0.10.0)\n",
            "Requirement already satisfied: pyparsing!=2.0.4,!=2.1.2,!=2.1.6,>=2.0.1 in /usr/local/lib/python3.7/dist-packages (from matplotlib->catboost) (2.4.7)\n",
            "Requirement already satisfied: retrying>=1.3.3 in /usr/local/lib/python3.7/dist-packages (from plotly->catboost) (1.3.3)\n",
            "Installing collected packages: catboost\n",
            "Successfully installed catboost-1.0.0\n"
          ]
        }
      ]
    },
    {
      "cell_type": "code",
      "metadata": {
        "id": "GmydAv-HIv8i"
      },
      "source": [
        "from catboost import CatBoostClassifier, Pool"
      ],
      "execution_count": null,
      "outputs": []
    },
    {
      "cell_type": "code",
      "metadata": {
        "colab": {
          "base_uri": "https://localhost:8080/"
        },
        "id": "QqmtRB9UI7F7",
        "outputId": "5d8e265d-cce8-40d2-db09-d2a8f9290359"
      },
      "source": [
        "model = CatBoostClassifier(iterations=500,\n",
        "                           depth=3,\n",
        "                           learning_rate=0.1,\n",
        "                           loss_function='Logloss',\n",
        "                           cat_features=categorial_columns,\n",
        "                           verbose=True)\n",
        "# train model\n",
        "model.fit(X,y)"
      ],
      "execution_count": null,
      "outputs": [
        {
          "output_type": "stream",
          "name": "stdout",
          "text": [
            "0:\tlearn: 0.6428059\ttotal: 4.47ms\tremaining: 2.23s\n",
            "1:\tlearn: 0.6058441\ttotal: 8.65ms\tremaining: 2.15s\n",
            "2:\tlearn: 0.5781230\ttotal: 12.8ms\tremaining: 2.12s\n",
            "3:\tlearn: 0.5538948\ttotal: 17.3ms\tremaining: 2.15s\n",
            "4:\tlearn: 0.5293932\ttotal: 21.2ms\tremaining: 2.09s\n",
            "5:\tlearn: 0.5149518\ttotal: 24.9ms\tremaining: 2.05s\n",
            "6:\tlearn: 0.5047294\ttotal: 28.4ms\tremaining: 2s\n",
            "7:\tlearn: 0.4947730\ttotal: 32ms\tremaining: 1.97s\n",
            "8:\tlearn: 0.4808458\ttotal: 35.5ms\tremaining: 1.94s\n",
            "9:\tlearn: 0.4703473\ttotal: 39.2ms\tremaining: 1.92s\n",
            "10:\tlearn: 0.4596403\ttotal: 42.6ms\tremaining: 1.89s\n",
            "11:\tlearn: 0.4547651\ttotal: 46.7ms\tremaining: 1.9s\n",
            "12:\tlearn: 0.4506204\ttotal: 50ms\tremaining: 1.87s\n",
            "13:\tlearn: 0.4453996\ttotal: 53.6ms\tremaining: 1.86s\n",
            "14:\tlearn: 0.4400621\ttotal: 57.3ms\tremaining: 1.85s\n",
            "15:\tlearn: 0.4340047\ttotal: 60.6ms\tremaining: 1.83s\n",
            "16:\tlearn: 0.4305367\ttotal: 64.1ms\tremaining: 1.82s\n",
            "17:\tlearn: 0.4266538\ttotal: 67.5ms\tremaining: 1.81s\n",
            "18:\tlearn: 0.4247521\ttotal: 71.3ms\tremaining: 1.8s\n",
            "19:\tlearn: 0.4217338\ttotal: 75ms\tremaining: 1.8s\n",
            "20:\tlearn: 0.4200810\ttotal: 78.3ms\tremaining: 1.78s\n",
            "21:\tlearn: 0.4187050\ttotal: 81.9ms\tremaining: 1.78s\n",
            "22:\tlearn: 0.4149459\ttotal: 85.2ms\tremaining: 1.77s\n",
            "23:\tlearn: 0.4139448\ttotal: 88.6ms\tremaining: 1.76s\n",
            "24:\tlearn: 0.4111389\ttotal: 92.3ms\tremaining: 1.75s\n",
            "25:\tlearn: 0.4097250\ttotal: 95.9ms\tremaining: 1.75s\n",
            "26:\tlearn: 0.4083547\ttotal: 99.1ms\tremaining: 1.74s\n",
            "27:\tlearn: 0.4063088\ttotal: 103ms\tremaining: 1.74s\n",
            "28:\tlearn: 0.4047057\ttotal: 107ms\tremaining: 1.74s\n",
            "29:\tlearn: 0.4036495\ttotal: 110ms\tremaining: 1.73s\n",
            "30:\tlearn: 0.4028388\ttotal: 114ms\tremaining: 1.72s\n",
            "31:\tlearn: 0.4014296\ttotal: 117ms\tremaining: 1.72s\n",
            "32:\tlearn: 0.4011511\ttotal: 120ms\tremaining: 1.7s\n",
            "33:\tlearn: 0.4009156\ttotal: 124ms\tremaining: 1.7s\n",
            "34:\tlearn: 0.3995121\ttotal: 128ms\tremaining: 1.69s\n",
            "35:\tlearn: 0.3983622\ttotal: 131ms\tremaining: 1.69s\n",
            "36:\tlearn: 0.3975853\ttotal: 135ms\tremaining: 1.69s\n",
            "37:\tlearn: 0.3965215\ttotal: 139ms\tremaining: 1.68s\n",
            "38:\tlearn: 0.3952674\ttotal: 142ms\tremaining: 1.68s\n",
            "39:\tlearn: 0.3941471\ttotal: 146ms\tremaining: 1.68s\n",
            "40:\tlearn: 0.3932631\ttotal: 150ms\tremaining: 1.68s\n",
            "41:\tlearn: 0.3925304\ttotal: 153ms\tremaining: 1.67s\n",
            "42:\tlearn: 0.3903907\ttotal: 156ms\tremaining: 1.66s\n",
            "43:\tlearn: 0.3898371\ttotal: 160ms\tremaining: 1.66s\n",
            "44:\tlearn: 0.3890289\ttotal: 163ms\tremaining: 1.65s\n",
            "45:\tlearn: 0.3883425\ttotal: 166ms\tremaining: 1.64s\n",
            "46:\tlearn: 0.3881298\ttotal: 170ms\tremaining: 1.64s\n",
            "47:\tlearn: 0.3877031\ttotal: 175ms\tremaining: 1.65s\n",
            "48:\tlearn: 0.3859446\ttotal: 179ms\tremaining: 1.65s\n",
            "49:\tlearn: 0.3851999\ttotal: 183ms\tremaining: 1.64s\n",
            "50:\tlearn: 0.3850043\ttotal: 186ms\tremaining: 1.64s\n",
            "51:\tlearn: 0.3846698\ttotal: 190ms\tremaining: 1.64s\n",
            "52:\tlearn: 0.3834004\ttotal: 194ms\tremaining: 1.64s\n",
            "53:\tlearn: 0.3823147\ttotal: 201ms\tremaining: 1.66s\n",
            "54:\tlearn: 0.3821764\ttotal: 205ms\tremaining: 1.66s\n",
            "55:\tlearn: 0.3814833\ttotal: 209ms\tremaining: 1.66s\n",
            "56:\tlearn: 0.3812749\ttotal: 213ms\tremaining: 1.65s\n",
            "57:\tlearn: 0.3805634\ttotal: 216ms\tremaining: 1.64s\n",
            "58:\tlearn: 0.3803265\ttotal: 220ms\tremaining: 1.64s\n",
            "59:\tlearn: 0.3799403\ttotal: 224ms\tremaining: 1.64s\n",
            "60:\tlearn: 0.3793859\ttotal: 231ms\tremaining: 1.66s\n",
            "61:\tlearn: 0.3788318\ttotal: 235ms\tremaining: 1.66s\n",
            "62:\tlearn: 0.3780557\ttotal: 239ms\tremaining: 1.66s\n",
            "63:\tlearn: 0.3778807\ttotal: 242ms\tremaining: 1.65s\n",
            "64:\tlearn: 0.3777465\ttotal: 246ms\tremaining: 1.65s\n",
            "65:\tlearn: 0.3772762\ttotal: 250ms\tremaining: 1.65s\n",
            "66:\tlearn: 0.3768902\ttotal: 254ms\tremaining: 1.64s\n",
            "67:\tlearn: 0.3765201\ttotal: 257ms\tremaining: 1.63s\n",
            "68:\tlearn: 0.3762244\ttotal: 260ms\tremaining: 1.63s\n",
            "69:\tlearn: 0.3759145\ttotal: 264ms\tremaining: 1.62s\n",
            "70:\tlearn: 0.3753698\ttotal: 267ms\tremaining: 1.61s\n",
            "71:\tlearn: 0.3752070\ttotal: 270ms\tremaining: 1.61s\n",
            "72:\tlearn: 0.3747717\ttotal: 274ms\tremaining: 1.6s\n",
            "73:\tlearn: 0.3746667\ttotal: 277ms\tremaining: 1.59s\n",
            "74:\tlearn: 0.3744025\ttotal: 282ms\tremaining: 1.6s\n",
            "75:\tlearn: 0.3740357\ttotal: 285ms\tremaining: 1.59s\n",
            "76:\tlearn: 0.3739461\ttotal: 289ms\tremaining: 1.58s\n",
            "77:\tlearn: 0.3734812\ttotal: 293ms\tremaining: 1.58s\n",
            "78:\tlearn: 0.3734373\ttotal: 296ms\tremaining: 1.58s\n",
            "79:\tlearn: 0.3731161\ttotal: 300ms\tremaining: 1.58s\n",
            "80:\tlearn: 0.3726181\ttotal: 304ms\tremaining: 1.57s\n",
            "81:\tlearn: 0.3725117\ttotal: 307ms\tremaining: 1.56s\n",
            "82:\tlearn: 0.3719712\ttotal: 310ms\tremaining: 1.56s\n",
            "83:\tlearn: 0.3719104\ttotal: 314ms\tremaining: 1.56s\n",
            "84:\tlearn: 0.3713540\ttotal: 317ms\tremaining: 1.55s\n",
            "85:\tlearn: 0.3710488\ttotal: 321ms\tremaining: 1.54s\n",
            "86:\tlearn: 0.3707273\ttotal: 325ms\tremaining: 1.54s\n",
            "87:\tlearn: 0.3706424\ttotal: 328ms\tremaining: 1.54s\n",
            "88:\tlearn: 0.3703544\ttotal: 332ms\tremaining: 1.53s\n",
            "89:\tlearn: 0.3698568\ttotal: 336ms\tremaining: 1.53s\n",
            "90:\tlearn: 0.3697836\ttotal: 339ms\tremaining: 1.52s\n",
            "91:\tlearn: 0.3696798\ttotal: 342ms\tremaining: 1.52s\n",
            "92:\tlearn: 0.3691176\ttotal: 346ms\tremaining: 1.51s\n",
            "93:\tlearn: 0.3682487\ttotal: 350ms\tremaining: 1.51s\n",
            "94:\tlearn: 0.3682381\ttotal: 353ms\tremaining: 1.51s\n",
            "95:\tlearn: 0.3681506\ttotal: 357ms\tremaining: 1.5s\n",
            "96:\tlearn: 0.3676559\ttotal: 360ms\tremaining: 1.5s\n",
            "97:\tlearn: 0.3675215\ttotal: 364ms\tremaining: 1.49s\n",
            "98:\tlearn: 0.3672995\ttotal: 367ms\tremaining: 1.49s\n",
            "99:\tlearn: 0.3669748\ttotal: 371ms\tremaining: 1.48s\n",
            "100:\tlearn: 0.3667677\ttotal: 375ms\tremaining: 1.48s\n",
            "101:\tlearn: 0.3667176\ttotal: 378ms\tremaining: 1.48s\n",
            "102:\tlearn: 0.3662345\ttotal: 381ms\tremaining: 1.47s\n",
            "103:\tlearn: 0.3660242\ttotal: 385ms\tremaining: 1.47s\n",
            "104:\tlearn: 0.3658247\ttotal: 389ms\tremaining: 1.46s\n",
            "105:\tlearn: 0.3651820\ttotal: 395ms\tremaining: 1.47s\n",
            "106:\tlearn: 0.3650896\ttotal: 400ms\tremaining: 1.47s\n",
            "107:\tlearn: 0.3644533\ttotal: 403ms\tremaining: 1.46s\n",
            "108:\tlearn: 0.3641787\ttotal: 407ms\tremaining: 1.46s\n",
            "109:\tlearn: 0.3639769\ttotal: 411ms\tremaining: 1.46s\n",
            "110:\tlearn: 0.3639115\ttotal: 414ms\tremaining: 1.45s\n",
            "111:\tlearn: 0.3635884\ttotal: 418ms\tremaining: 1.45s\n",
            "112:\tlearn: 0.3631656\ttotal: 422ms\tremaining: 1.44s\n",
            "113:\tlearn: 0.3631421\ttotal: 425ms\tremaining: 1.44s\n",
            "114:\tlearn: 0.3630706\ttotal: 429ms\tremaining: 1.43s\n",
            "115:\tlearn: 0.3629655\ttotal: 432ms\tremaining: 1.43s\n",
            "116:\tlearn: 0.3628853\ttotal: 436ms\tremaining: 1.43s\n",
            "117:\tlearn: 0.3626504\ttotal: 441ms\tremaining: 1.43s\n",
            "118:\tlearn: 0.3626024\ttotal: 448ms\tremaining: 1.43s\n",
            "119:\tlearn: 0.3620861\ttotal: 451ms\tremaining: 1.43s\n",
            "120:\tlearn: 0.3618718\ttotal: 454ms\tremaining: 1.42s\n",
            "121:\tlearn: 0.3616976\ttotal: 458ms\tremaining: 1.42s\n",
            "122:\tlearn: 0.3616496\ttotal: 462ms\tremaining: 1.42s\n",
            "123:\tlearn: 0.3616105\ttotal: 466ms\tremaining: 1.41s\n",
            "124:\tlearn: 0.3615292\ttotal: 469ms\tremaining: 1.41s\n",
            "125:\tlearn: 0.3614623\ttotal: 473ms\tremaining: 1.4s\n",
            "126:\tlearn: 0.3612329\ttotal: 477ms\tremaining: 1.4s\n",
            "127:\tlearn: 0.3611626\ttotal: 480ms\tremaining: 1.4s\n",
            "128:\tlearn: 0.3611083\ttotal: 484ms\tremaining: 1.39s\n",
            "129:\tlearn: 0.3610837\ttotal: 487ms\tremaining: 1.39s\n",
            "130:\tlearn: 0.3607488\ttotal: 491ms\tremaining: 1.38s\n",
            "131:\tlearn: 0.3604897\ttotal: 494ms\tremaining: 1.38s\n",
            "132:\tlearn: 0.3603199\ttotal: 498ms\tremaining: 1.37s\n",
            "133:\tlearn: 0.3600498\ttotal: 502ms\tremaining: 1.37s\n",
            "134:\tlearn: 0.3597491\ttotal: 505ms\tremaining: 1.37s\n",
            "135:\tlearn: 0.3595469\ttotal: 509ms\tremaining: 1.36s\n",
            "136:\tlearn: 0.3595371\ttotal: 512ms\tremaining: 1.36s\n",
            "137:\tlearn: 0.3592214\ttotal: 515ms\tremaining: 1.35s\n",
            "138:\tlearn: 0.3590630\ttotal: 519ms\tremaining: 1.35s\n",
            "139:\tlearn: 0.3588606\ttotal: 523ms\tremaining: 1.34s\n",
            "140:\tlearn: 0.3584221\ttotal: 527ms\tremaining: 1.34s\n",
            "141:\tlearn: 0.3583874\ttotal: 530ms\tremaining: 1.34s\n",
            "142:\tlearn: 0.3582151\ttotal: 534ms\tremaining: 1.33s\n",
            "143:\tlearn: 0.3580923\ttotal: 538ms\tremaining: 1.33s\n",
            "144:\tlearn: 0.3580471\ttotal: 541ms\tremaining: 1.32s\n",
            "145:\tlearn: 0.3580387\ttotal: 545ms\tremaining: 1.32s\n",
            "146:\tlearn: 0.3579069\ttotal: 548ms\tremaining: 1.32s\n",
            "147:\tlearn: 0.3577539\ttotal: 554ms\tremaining: 1.32s\n",
            "148:\tlearn: 0.3575679\ttotal: 560ms\tremaining: 1.32s\n",
            "149:\tlearn: 0.3572633\ttotal: 563ms\tremaining: 1.31s\n",
            "150:\tlearn: 0.3570507\ttotal: 567ms\tremaining: 1.31s\n",
            "151:\tlearn: 0.3568317\ttotal: 571ms\tremaining: 1.31s\n",
            "152:\tlearn: 0.3565808\ttotal: 575ms\tremaining: 1.3s\n",
            "153:\tlearn: 0.3564948\ttotal: 578ms\tremaining: 1.3s\n",
            "154:\tlearn: 0.3564004\ttotal: 587ms\tremaining: 1.31s\n",
            "155:\tlearn: 0.3562699\ttotal: 591ms\tremaining: 1.3s\n",
            "156:\tlearn: 0.3561650\ttotal: 595ms\tremaining: 1.3s\n",
            "157:\tlearn: 0.3559786\ttotal: 599ms\tremaining: 1.3s\n",
            "158:\tlearn: 0.3558617\ttotal: 603ms\tremaining: 1.29s\n",
            "159:\tlearn: 0.3557628\ttotal: 607ms\tremaining: 1.29s\n",
            "160:\tlearn: 0.3556283\ttotal: 611ms\tremaining: 1.28s\n",
            "161:\tlearn: 0.3556067\ttotal: 614ms\tremaining: 1.28s\n",
            "162:\tlearn: 0.3554403\ttotal: 618ms\tremaining: 1.28s\n",
            "163:\tlearn: 0.3553935\ttotal: 622ms\tremaining: 1.27s\n",
            "164:\tlearn: 0.3550927\ttotal: 626ms\tremaining: 1.27s\n",
            "165:\tlearn: 0.3549602\ttotal: 630ms\tremaining: 1.27s\n",
            "166:\tlearn: 0.3549224\ttotal: 633ms\tremaining: 1.26s\n",
            "167:\tlearn: 0.3547967\ttotal: 637ms\tremaining: 1.26s\n",
            "168:\tlearn: 0.3547427\ttotal: 640ms\tremaining: 1.25s\n",
            "169:\tlearn: 0.3547232\ttotal: 644ms\tremaining: 1.25s\n",
            "170:\tlearn: 0.3545188\ttotal: 647ms\tremaining: 1.25s\n",
            "171:\tlearn: 0.3543125\ttotal: 651ms\tremaining: 1.24s\n",
            "172:\tlearn: 0.3539145\ttotal: 655ms\tremaining: 1.24s\n",
            "173:\tlearn: 0.3537415\ttotal: 659ms\tremaining: 1.24s\n",
            "174:\tlearn: 0.3536290\ttotal: 663ms\tremaining: 1.23s\n",
            "175:\tlearn: 0.3533825\ttotal: 669ms\tremaining: 1.23s\n",
            "176:\tlearn: 0.3531508\ttotal: 673ms\tremaining: 1.23s\n",
            "177:\tlearn: 0.3530610\ttotal: 676ms\tremaining: 1.22s\n",
            "178:\tlearn: 0.3527035\ttotal: 680ms\tremaining: 1.22s\n",
            "179:\tlearn: 0.3526183\ttotal: 683ms\tremaining: 1.21s\n",
            "180:\tlearn: 0.3526045\ttotal: 687ms\tremaining: 1.21s\n",
            "181:\tlearn: 0.3522805\ttotal: 691ms\tremaining: 1.21s\n",
            "182:\tlearn: 0.3522099\ttotal: 695ms\tremaining: 1.2s\n",
            "183:\tlearn: 0.3521821\ttotal: 699ms\tremaining: 1.2s\n",
            "184:\tlearn: 0.3518037\ttotal: 702ms\tremaining: 1.2s\n",
            "185:\tlearn: 0.3516863\ttotal: 706ms\tremaining: 1.19s\n",
            "186:\tlearn: 0.3516063\ttotal: 709ms\tremaining: 1.19s\n",
            "187:\tlearn: 0.3514064\ttotal: 712ms\tremaining: 1.18s\n",
            "188:\tlearn: 0.3513773\ttotal: 716ms\tremaining: 1.18s\n",
            "189:\tlearn: 0.3511922\ttotal: 719ms\tremaining: 1.17s\n",
            "190:\tlearn: 0.3510651\ttotal: 723ms\tremaining: 1.17s\n",
            "191:\tlearn: 0.3510338\ttotal: 727ms\tremaining: 1.17s\n",
            "192:\tlearn: 0.3509471\ttotal: 730ms\tremaining: 1.16s\n",
            "193:\tlearn: 0.3508975\ttotal: 734ms\tremaining: 1.16s\n",
            "194:\tlearn: 0.3508664\ttotal: 738ms\tremaining: 1.15s\n",
            "195:\tlearn: 0.3507590\ttotal: 742ms\tremaining: 1.15s\n",
            "196:\tlearn: 0.3507243\ttotal: 745ms\tremaining: 1.15s\n",
            "197:\tlearn: 0.3505619\ttotal: 749ms\tremaining: 1.14s\n",
            "198:\tlearn: 0.3504240\ttotal: 753ms\tremaining: 1.14s\n",
            "199:\tlearn: 0.3503245\ttotal: 756ms\tremaining: 1.13s\n",
            "200:\tlearn: 0.3502932\ttotal: 760ms\tremaining: 1.13s\n",
            "201:\tlearn: 0.3501759\ttotal: 764ms\tremaining: 1.13s\n",
            "202:\tlearn: 0.3499263\ttotal: 767ms\tremaining: 1.12s\n",
            "203:\tlearn: 0.3496682\ttotal: 771ms\tremaining: 1.12s\n",
            "204:\tlearn: 0.3495901\ttotal: 774ms\tremaining: 1.11s\n",
            "205:\tlearn: 0.3495114\ttotal: 778ms\tremaining: 1.11s\n",
            "206:\tlearn: 0.3493667\ttotal: 787ms\tremaining: 1.11s\n",
            "207:\tlearn: 0.3493457\ttotal: 791ms\tremaining: 1.11s\n",
            "208:\tlearn: 0.3492366\ttotal: 795ms\tremaining: 1.11s\n",
            "209:\tlearn: 0.3491944\ttotal: 798ms\tremaining: 1.1s\n",
            "210:\tlearn: 0.3491590\ttotal: 802ms\tremaining: 1.1s\n",
            "211:\tlearn: 0.3490466\ttotal: 806ms\tremaining: 1.09s\n",
            "212:\tlearn: 0.3488920\ttotal: 809ms\tremaining: 1.09s\n",
            "213:\tlearn: 0.3488275\ttotal: 813ms\tremaining: 1.09s\n",
            "214:\tlearn: 0.3485864\ttotal: 817ms\tremaining: 1.08s\n",
            "215:\tlearn: 0.3485762\ttotal: 820ms\tremaining: 1.08s\n",
            "216:\tlearn: 0.3485555\ttotal: 824ms\tremaining: 1.07s\n",
            "217:\tlearn: 0.3484567\ttotal: 828ms\tremaining: 1.07s\n",
            "218:\tlearn: 0.3484497\ttotal: 831ms\tremaining: 1.07s\n",
            "219:\tlearn: 0.3483368\ttotal: 835ms\tremaining: 1.06s\n",
            "220:\tlearn: 0.3482213\ttotal: 839ms\tremaining: 1.06s\n",
            "221:\tlearn: 0.3480500\ttotal: 844ms\tremaining: 1.06s\n",
            "222:\tlearn: 0.3480148\ttotal: 849ms\tremaining: 1.05s\n",
            "223:\tlearn: 0.3479385\ttotal: 853ms\tremaining: 1.05s\n",
            "224:\tlearn: 0.3479000\ttotal: 860ms\tremaining: 1.05s\n",
            "225:\tlearn: 0.3477839\ttotal: 865ms\tremaining: 1.05s\n",
            "226:\tlearn: 0.3477030\ttotal: 869ms\tremaining: 1.04s\n",
            "227:\tlearn: 0.3476955\ttotal: 873ms\tremaining: 1.04s\n",
            "228:\tlearn: 0.3475659\ttotal: 877ms\tremaining: 1.04s\n",
            "229:\tlearn: 0.3474971\ttotal: 880ms\tremaining: 1.03s\n",
            "230:\tlearn: 0.3473585\ttotal: 884ms\tremaining: 1.03s\n",
            "231:\tlearn: 0.3472739\ttotal: 887ms\tremaining: 1.02s\n",
            "232:\tlearn: 0.3472440\ttotal: 891ms\tremaining: 1.02s\n",
            "233:\tlearn: 0.3471401\ttotal: 895ms\tremaining: 1.02s\n",
            "234:\tlearn: 0.3470114\ttotal: 898ms\tremaining: 1.01s\n",
            "235:\tlearn: 0.3469189\ttotal: 902ms\tremaining: 1.01s\n",
            "236:\tlearn: 0.3469086\ttotal: 905ms\tremaining: 1s\n",
            "237:\tlearn: 0.3469029\ttotal: 909ms\tremaining: 1s\n",
            "238:\tlearn: 0.3466353\ttotal: 912ms\tremaining: 996ms\n",
            "239:\tlearn: 0.3465523\ttotal: 916ms\tremaining: 992ms\n",
            "240:\tlearn: 0.3465471\ttotal: 920ms\tremaining: 988ms\n",
            "241:\tlearn: 0.3464836\ttotal: 923ms\tremaining: 984ms\n",
            "242:\tlearn: 0.3464585\ttotal: 926ms\tremaining: 980ms\n",
            "243:\tlearn: 0.3462313\ttotal: 930ms\tremaining: 976ms\n",
            "244:\tlearn: 0.3459061\ttotal: 934ms\tremaining: 972ms\n",
            "245:\tlearn: 0.3458688\ttotal: 938ms\tremaining: 969ms\n",
            "246:\tlearn: 0.3458353\ttotal: 942ms\tremaining: 965ms\n",
            "247:\tlearn: 0.3457971\ttotal: 946ms\tremaining: 961ms\n",
            "248:\tlearn: 0.3456038\ttotal: 950ms\tremaining: 957ms\n",
            "249:\tlearn: 0.3453279\ttotal: 954ms\tremaining: 954ms\n",
            "250:\tlearn: 0.3452967\ttotal: 957ms\tremaining: 950ms\n",
            "251:\tlearn: 0.3450688\ttotal: 961ms\tremaining: 946ms\n",
            "252:\tlearn: 0.3449017\ttotal: 965ms\tremaining: 942ms\n",
            "253:\tlearn: 0.3448106\ttotal: 969ms\tremaining: 938ms\n",
            "254:\tlearn: 0.3447930\ttotal: 972ms\tremaining: 934ms\n",
            "255:\tlearn: 0.3447331\ttotal: 976ms\tremaining: 930ms\n",
            "256:\tlearn: 0.3447156\ttotal: 982ms\tremaining: 928ms\n",
            "257:\tlearn: 0.3447027\ttotal: 987ms\tremaining: 926ms\n",
            "258:\tlearn: 0.3446797\ttotal: 991ms\tremaining: 922ms\n",
            "259:\tlearn: 0.3446647\ttotal: 995ms\tremaining: 918ms\n",
            "260:\tlearn: 0.3445031\ttotal: 999ms\tremaining: 915ms\n",
            "261:\tlearn: 0.3443139\ttotal: 1s\tremaining: 911ms\n",
            "262:\tlearn: 0.3442862\ttotal: 1.01s\tremaining: 907ms\n",
            "263:\tlearn: 0.3441818\ttotal: 1.01s\tremaining: 904ms\n",
            "264:\tlearn: 0.3438413\ttotal: 1.01s\tremaining: 900ms\n",
            "265:\tlearn: 0.3438410\ttotal: 1.02s\tremaining: 896ms\n",
            "266:\tlearn: 0.3437926\ttotal: 1.02s\tremaining: 892ms\n",
            "267:\tlearn: 0.3436356\ttotal: 1.02s\tremaining: 888ms\n",
            "268:\tlearn: 0.3436250\ttotal: 1.03s\tremaining: 884ms\n",
            "269:\tlearn: 0.3435493\ttotal: 1.03s\tremaining: 881ms\n",
            "270:\tlearn: 0.3434940\ttotal: 1.04s\tremaining: 877ms\n",
            "271:\tlearn: 0.3434813\ttotal: 1.04s\tremaining: 873ms\n",
            "272:\tlearn: 0.3434096\ttotal: 1.04s\tremaining: 869ms\n",
            "273:\tlearn: 0.3433213\ttotal: 1.05s\tremaining: 865ms\n",
            "274:\tlearn: 0.3432992\ttotal: 1.05s\tremaining: 861ms\n",
            "275:\tlearn: 0.3430963\ttotal: 1.06s\tremaining: 857ms\n",
            "276:\tlearn: 0.3429786\ttotal: 1.06s\tremaining: 853ms\n",
            "277:\tlearn: 0.3429168\ttotal: 1.06s\tremaining: 849ms\n",
            "278:\tlearn: 0.3426775\ttotal: 1.07s\tremaining: 845ms\n",
            "279:\tlearn: 0.3426738\ttotal: 1.07s\tremaining: 842ms\n",
            "280:\tlearn: 0.3425717\ttotal: 1.07s\tremaining: 838ms\n",
            "281:\tlearn: 0.3424368\ttotal: 1.08s\tremaining: 834ms\n",
            "282:\tlearn: 0.3423479\ttotal: 1.08s\tremaining: 830ms\n",
            "283:\tlearn: 0.3422728\ttotal: 1.09s\tremaining: 827ms\n",
            "284:\tlearn: 0.3421252\ttotal: 1.09s\tremaining: 823ms\n",
            "285:\tlearn: 0.3420113\ttotal: 1.09s\tremaining: 819ms\n",
            "286:\tlearn: 0.3419367\ttotal: 1.1s\tremaining: 815ms\n",
            "287:\tlearn: 0.3419269\ttotal: 1.1s\tremaining: 811ms\n",
            "288:\tlearn: 0.3419236\ttotal: 1.1s\tremaining: 807ms\n",
            "289:\tlearn: 0.3419085\ttotal: 1.11s\tremaining: 803ms\n",
            "290:\tlearn: 0.3417754\ttotal: 1.11s\tremaining: 799ms\n",
            "291:\tlearn: 0.3417648\ttotal: 1.12s\tremaining: 795ms\n",
            "292:\tlearn: 0.3417613\ttotal: 1.12s\tremaining: 791ms\n",
            "293:\tlearn: 0.3416600\ttotal: 1.12s\tremaining: 788ms\n",
            "294:\tlearn: 0.3416299\ttotal: 1.13s\tremaining: 787ms\n",
            "295:\tlearn: 0.3415860\ttotal: 1.14s\tremaining: 784ms\n",
            "296:\tlearn: 0.3414695\ttotal: 1.14s\tremaining: 781ms\n",
            "297:\tlearn: 0.3412827\ttotal: 1.15s\tremaining: 777ms\n",
            "298:\tlearn: 0.3412065\ttotal: 1.15s\tremaining: 774ms\n",
            "299:\tlearn: 0.3411374\ttotal: 1.15s\tremaining: 769ms\n",
            "300:\tlearn: 0.3411280\ttotal: 1.16s\tremaining: 765ms\n",
            "301:\tlearn: 0.3409831\ttotal: 1.16s\tremaining: 762ms\n",
            "302:\tlearn: 0.3407933\ttotal: 1.17s\tremaining: 757ms\n",
            "303:\tlearn: 0.3407771\ttotal: 1.17s\tremaining: 754ms\n",
            "304:\tlearn: 0.3407709\ttotal: 1.17s\tremaining: 750ms\n",
            "305:\tlearn: 0.3407237\ttotal: 1.18s\tremaining: 746ms\n",
            "306:\tlearn: 0.3406386\ttotal: 1.18s\tremaining: 744ms\n",
            "307:\tlearn: 0.3405835\ttotal: 1.19s\tremaining: 741ms\n",
            "308:\tlearn: 0.3405641\ttotal: 1.19s\tremaining: 737ms\n",
            "309:\tlearn: 0.3405426\ttotal: 1.2s\tremaining: 733ms\n",
            "310:\tlearn: 0.3403024\ttotal: 1.2s\tremaining: 729ms\n",
            "311:\tlearn: 0.3402432\ttotal: 1.2s\tremaining: 725ms\n",
            "312:\tlearn: 0.3401517\ttotal: 1.21s\tremaining: 721ms\n",
            "313:\tlearn: 0.3401307\ttotal: 1.21s\tremaining: 717ms\n",
            "314:\tlearn: 0.3401037\ttotal: 1.21s\tremaining: 713ms\n",
            "315:\tlearn: 0.3399197\ttotal: 1.22s\tremaining: 709ms\n",
            "316:\tlearn: 0.3398297\ttotal: 1.22s\tremaining: 705ms\n",
            "317:\tlearn: 0.3398168\ttotal: 1.23s\tremaining: 701ms\n",
            "318:\tlearn: 0.3398155\ttotal: 1.23s\tremaining: 697ms\n",
            "319:\tlearn: 0.3396807\ttotal: 1.23s\tremaining: 694ms\n",
            "320:\tlearn: 0.3395878\ttotal: 1.24s\tremaining: 691ms\n",
            "321:\tlearn: 0.3395381\ttotal: 1.24s\tremaining: 687ms\n",
            "322:\tlearn: 0.3395191\ttotal: 1.25s\tremaining: 683ms\n",
            "323:\tlearn: 0.3394349\ttotal: 1.25s\tremaining: 679ms\n",
            "324:\tlearn: 0.3394260\ttotal: 1.25s\tremaining: 675ms\n",
            "325:\tlearn: 0.3393904\ttotal: 1.26s\tremaining: 671ms\n",
            "326:\tlearn: 0.3392995\ttotal: 1.26s\tremaining: 667ms\n",
            "327:\tlearn: 0.3392696\ttotal: 1.26s\tremaining: 663ms\n",
            "328:\tlearn: 0.3391454\ttotal: 1.27s\tremaining: 660ms\n",
            "329:\tlearn: 0.3390095\ttotal: 1.27s\tremaining: 656ms\n",
            "330:\tlearn: 0.3389087\ttotal: 1.28s\tremaining: 652ms\n",
            "331:\tlearn: 0.3387760\ttotal: 1.28s\tremaining: 648ms\n",
            "332:\tlearn: 0.3387066\ttotal: 1.28s\tremaining: 644ms\n",
            "333:\tlearn: 0.3386072\ttotal: 1.29s\tremaining: 640ms\n",
            "334:\tlearn: 0.3385581\ttotal: 1.29s\tremaining: 636ms\n",
            "335:\tlearn: 0.3385291\ttotal: 1.29s\tremaining: 632ms\n",
            "336:\tlearn: 0.3384201\ttotal: 1.3s\tremaining: 628ms\n",
            "337:\tlearn: 0.3383585\ttotal: 1.3s\tremaining: 624ms\n",
            "338:\tlearn: 0.3382647\ttotal: 1.3s\tremaining: 620ms\n",
            "339:\tlearn: 0.3380887\ttotal: 1.31s\tremaining: 616ms\n",
            "340:\tlearn: 0.3379985\ttotal: 1.31s\tremaining: 612ms\n",
            "341:\tlearn: 0.3379624\ttotal: 1.32s\tremaining: 608ms\n",
            "342:\tlearn: 0.3378897\ttotal: 1.32s\tremaining: 605ms\n",
            "343:\tlearn: 0.3378869\ttotal: 1.32s\tremaining: 601ms\n",
            "344:\tlearn: 0.3378081\ttotal: 1.33s\tremaining: 597ms\n",
            "345:\tlearn: 0.3377897\ttotal: 1.33s\tremaining: 593ms\n",
            "346:\tlearn: 0.3377861\ttotal: 1.34s\tremaining: 589ms\n",
            "347:\tlearn: 0.3377033\ttotal: 1.34s\tremaining: 585ms\n",
            "348:\tlearn: 0.3376912\ttotal: 1.34s\tremaining: 581ms\n",
            "349:\tlearn: 0.3375396\ttotal: 1.35s\tremaining: 577ms\n",
            "350:\tlearn: 0.3374228\ttotal: 1.35s\tremaining: 574ms\n",
            "351:\tlearn: 0.3374218\ttotal: 1.35s\tremaining: 570ms\n",
            "352:\tlearn: 0.3373269\ttotal: 1.36s\tremaining: 566ms\n",
            "353:\tlearn: 0.3372259\ttotal: 1.36s\tremaining: 561ms\n",
            "354:\tlearn: 0.3372033\ttotal: 1.36s\tremaining: 558ms\n",
            "355:\tlearn: 0.3371890\ttotal: 1.37s\tremaining: 554ms\n",
            "356:\tlearn: 0.3371641\ttotal: 1.37s\tremaining: 550ms\n",
            "357:\tlearn: 0.3371091\ttotal: 1.38s\tremaining: 546ms\n",
            "358:\tlearn: 0.3370577\ttotal: 1.38s\tremaining: 543ms\n",
            "359:\tlearn: 0.3370481\ttotal: 1.39s\tremaining: 540ms\n",
            "360:\tlearn: 0.3369475\ttotal: 1.39s\tremaining: 536ms\n",
            "361:\tlearn: 0.3369421\ttotal: 1.4s\tremaining: 533ms\n",
            "362:\tlearn: 0.3368514\ttotal: 1.4s\tremaining: 529ms\n",
            "363:\tlearn: 0.3367818\ttotal: 1.4s\tremaining: 525ms\n",
            "364:\tlearn: 0.3367633\ttotal: 1.41s\tremaining: 521ms\n",
            "365:\tlearn: 0.3365785\ttotal: 1.41s\tremaining: 517ms\n",
            "366:\tlearn: 0.3365753\ttotal: 1.42s\tremaining: 513ms\n",
            "367:\tlearn: 0.3364034\ttotal: 1.42s\tremaining: 509ms\n",
            "368:\tlearn: 0.3363518\ttotal: 1.42s\tremaining: 505ms\n",
            "369:\tlearn: 0.3363498\ttotal: 1.43s\tremaining: 501ms\n",
            "370:\tlearn: 0.3363296\ttotal: 1.43s\tremaining: 498ms\n",
            "371:\tlearn: 0.3363045\ttotal: 1.43s\tremaining: 494ms\n",
            "372:\tlearn: 0.3362544\ttotal: 1.44s\tremaining: 490ms\n",
            "373:\tlearn: 0.3361975\ttotal: 1.44s\tremaining: 486ms\n",
            "374:\tlearn: 0.3361214\ttotal: 1.45s\tremaining: 482ms\n",
            "375:\tlearn: 0.3361183\ttotal: 1.45s\tremaining: 479ms\n",
            "376:\tlearn: 0.3360617\ttotal: 1.46s\tremaining: 476ms\n",
            "377:\tlearn: 0.3360524\ttotal: 1.46s\tremaining: 472ms\n",
            "378:\tlearn: 0.3359769\ttotal: 1.47s\tremaining: 468ms\n",
            "379:\tlearn: 0.3359028\ttotal: 1.47s\tremaining: 464ms\n",
            "380:\tlearn: 0.3357721\ttotal: 1.47s\tremaining: 460ms\n",
            "381:\tlearn: 0.3357630\ttotal: 1.48s\tremaining: 456ms\n",
            "382:\tlearn: 0.3357603\ttotal: 1.48s\tremaining: 452ms\n",
            "383:\tlearn: 0.3357581\ttotal: 1.48s\tremaining: 448ms\n",
            "384:\tlearn: 0.3357025\ttotal: 1.49s\tremaining: 444ms\n",
            "385:\tlearn: 0.3356925\ttotal: 1.49s\tremaining: 440ms\n",
            "386:\tlearn: 0.3356759\ttotal: 1.49s\tremaining: 436ms\n",
            "387:\tlearn: 0.3355283\ttotal: 1.5s\tremaining: 432ms\n",
            "388:\tlearn: 0.3354049\ttotal: 1.5s\tremaining: 429ms\n",
            "389:\tlearn: 0.3353928\ttotal: 1.51s\tremaining: 425ms\n",
            "390:\tlearn: 0.3353608\ttotal: 1.51s\tremaining: 421ms\n",
            "391:\tlearn: 0.3353465\ttotal: 1.51s\tremaining: 418ms\n",
            "392:\tlearn: 0.3352567\ttotal: 1.52s\tremaining: 414ms\n",
            "393:\tlearn: 0.3352373\ttotal: 1.52s\tremaining: 410ms\n",
            "394:\tlearn: 0.3351784\ttotal: 1.53s\tremaining: 407ms\n",
            "395:\tlearn: 0.3351568\ttotal: 1.53s\tremaining: 403ms\n",
            "396:\tlearn: 0.3351513\ttotal: 1.54s\tremaining: 399ms\n",
            "397:\tlearn: 0.3350919\ttotal: 1.54s\tremaining: 395ms\n",
            "398:\tlearn: 0.3350772\ttotal: 1.54s\tremaining: 391ms\n",
            "399:\tlearn: 0.3350712\ttotal: 1.55s\tremaining: 387ms\n",
            "400:\tlearn: 0.3349151\ttotal: 1.55s\tremaining: 383ms\n",
            "401:\tlearn: 0.3348940\ttotal: 1.55s\tremaining: 379ms\n",
            "402:\tlearn: 0.3348767\ttotal: 1.56s\tremaining: 375ms\n",
            "403:\tlearn: 0.3347325\ttotal: 1.56s\tremaining: 371ms\n",
            "404:\tlearn: 0.3345999\ttotal: 1.56s\tremaining: 367ms\n",
            "405:\tlearn: 0.3345106\ttotal: 1.57s\tremaining: 363ms\n",
            "406:\tlearn: 0.3344378\ttotal: 1.57s\tremaining: 359ms\n",
            "407:\tlearn: 0.3343798\ttotal: 1.58s\tremaining: 355ms\n",
            "408:\tlearn: 0.3343335\ttotal: 1.58s\tremaining: 351ms\n",
            "409:\tlearn: 0.3341899\ttotal: 1.59s\tremaining: 348ms\n",
            "410:\tlearn: 0.3340308\ttotal: 1.59s\tremaining: 345ms\n",
            "411:\tlearn: 0.3340269\ttotal: 1.59s\tremaining: 341ms\n",
            "412:\tlearn: 0.3340028\ttotal: 1.6s\tremaining: 337ms\n",
            "413:\tlearn: 0.3338922\ttotal: 1.6s\tremaining: 333ms\n",
            "414:\tlearn: 0.3338845\ttotal: 1.61s\tremaining: 329ms\n",
            "415:\tlearn: 0.3337092\ttotal: 1.61s\tremaining: 325ms\n",
            "416:\tlearn: 0.3336926\ttotal: 1.61s\tremaining: 322ms\n",
            "417:\tlearn: 0.3336521\ttotal: 1.62s\tremaining: 318ms\n",
            "418:\tlearn: 0.3335610\ttotal: 1.62s\tremaining: 314ms\n",
            "419:\tlearn: 0.3333728\ttotal: 1.63s\tremaining: 310ms\n",
            "420:\tlearn: 0.3333557\ttotal: 1.63s\tremaining: 306ms\n",
            "421:\tlearn: 0.3332705\ttotal: 1.63s\tremaining: 302ms\n",
            "422:\tlearn: 0.3332552\ttotal: 1.64s\tremaining: 298ms\n",
            "423:\tlearn: 0.3331951\ttotal: 1.64s\tremaining: 295ms\n",
            "424:\tlearn: 0.3331339\ttotal: 1.65s\tremaining: 291ms\n",
            "425:\tlearn: 0.3330890\ttotal: 1.65s\tremaining: 287ms\n",
            "426:\tlearn: 0.3330133\ttotal: 1.66s\tremaining: 283ms\n",
            "427:\tlearn: 0.3330048\ttotal: 1.66s\tremaining: 279ms\n",
            "428:\tlearn: 0.3330013\ttotal: 1.66s\tremaining: 275ms\n",
            "429:\tlearn: 0.3329988\ttotal: 1.67s\tremaining: 271ms\n",
            "430:\tlearn: 0.3329143\ttotal: 1.67s\tremaining: 267ms\n",
            "431:\tlearn: 0.3328922\ttotal: 1.67s\tremaining: 264ms\n",
            "432:\tlearn: 0.3328394\ttotal: 1.68s\tremaining: 260ms\n",
            "433:\tlearn: 0.3327322\ttotal: 1.68s\tremaining: 256ms\n",
            "434:\tlearn: 0.3327322\ttotal: 1.69s\tremaining: 252ms\n",
            "435:\tlearn: 0.3326557\ttotal: 1.69s\tremaining: 248ms\n",
            "436:\tlearn: 0.3325977\ttotal: 1.7s\tremaining: 245ms\n",
            "437:\tlearn: 0.3325731\ttotal: 1.7s\tremaining: 241ms\n",
            "438:\tlearn: 0.3325227\ttotal: 1.71s\tremaining: 237ms\n",
            "439:\tlearn: 0.3325145\ttotal: 1.71s\tremaining: 233ms\n",
            "440:\tlearn: 0.3324968\ttotal: 1.72s\tremaining: 230ms\n",
            "441:\tlearn: 0.3324519\ttotal: 1.72s\tremaining: 226ms\n",
            "442:\tlearn: 0.3323538\ttotal: 1.72s\tremaining: 222ms\n",
            "443:\tlearn: 0.3323123\ttotal: 1.73s\tremaining: 218ms\n",
            "444:\tlearn: 0.3322095\ttotal: 1.73s\tremaining: 214ms\n",
            "445:\tlearn: 0.3321927\ttotal: 1.74s\tremaining: 210ms\n",
            "446:\tlearn: 0.3320533\ttotal: 1.74s\tremaining: 206ms\n",
            "447:\tlearn: 0.3320215\ttotal: 1.74s\tremaining: 202ms\n",
            "448:\tlearn: 0.3320139\ttotal: 1.75s\tremaining: 198ms\n",
            "449:\tlearn: 0.3319770\ttotal: 1.75s\tremaining: 195ms\n",
            "450:\tlearn: 0.3319743\ttotal: 1.75s\tremaining: 191ms\n",
            "451:\tlearn: 0.3319095\ttotal: 1.76s\tremaining: 187ms\n",
            "452:\tlearn: 0.3318904\ttotal: 1.76s\tremaining: 183ms\n",
            "453:\tlearn: 0.3318581\ttotal: 1.77s\tremaining: 179ms\n",
            "454:\tlearn: 0.3317088\ttotal: 1.77s\tremaining: 175ms\n",
            "455:\tlearn: 0.3316687\ttotal: 1.77s\tremaining: 171ms\n",
            "456:\tlearn: 0.3315647\ttotal: 1.78s\tremaining: 167ms\n",
            "457:\tlearn: 0.3314953\ttotal: 1.78s\tremaining: 163ms\n",
            "458:\tlearn: 0.3314315\ttotal: 1.79s\tremaining: 160ms\n",
            "459:\tlearn: 0.3314239\ttotal: 1.79s\tremaining: 156ms\n",
            "460:\tlearn: 0.3313155\ttotal: 1.79s\tremaining: 152ms\n",
            "461:\tlearn: 0.3313061\ttotal: 1.8s\tremaining: 148ms\n",
            "462:\tlearn: 0.3312356\ttotal: 1.8s\tremaining: 144ms\n",
            "463:\tlearn: 0.3311935\ttotal: 1.81s\tremaining: 140ms\n",
            "464:\tlearn: 0.3311342\ttotal: 1.81s\tremaining: 137ms\n",
            "465:\tlearn: 0.3310957\ttotal: 1.82s\tremaining: 133ms\n",
            "466:\tlearn: 0.3310881\ttotal: 1.82s\tremaining: 129ms\n",
            "467:\tlearn: 0.3310626\ttotal: 1.83s\tremaining: 125ms\n",
            "468:\tlearn: 0.3310345\ttotal: 1.83s\tremaining: 121ms\n",
            "469:\tlearn: 0.3310165\ttotal: 1.84s\tremaining: 117ms\n",
            "470:\tlearn: 0.3309832\ttotal: 1.84s\tremaining: 113ms\n",
            "471:\tlearn: 0.3309752\ttotal: 1.85s\tremaining: 110ms\n",
            "472:\tlearn: 0.3309191\ttotal: 1.85s\tremaining: 106ms\n",
            "473:\tlearn: 0.3308393\ttotal: 1.85s\tremaining: 102ms\n",
            "474:\tlearn: 0.3307044\ttotal: 1.86s\tremaining: 97.8ms\n",
            "475:\tlearn: 0.3306976\ttotal: 1.86s\tremaining: 93.9ms\n",
            "476:\tlearn: 0.3306746\ttotal: 1.86s\tremaining: 89.9ms\n",
            "477:\tlearn: 0.3306746\ttotal: 1.87s\tremaining: 86ms\n",
            "478:\tlearn: 0.3306293\ttotal: 1.87s\tremaining: 82.1ms\n",
            "479:\tlearn: 0.3306291\ttotal: 1.88s\tremaining: 78.2ms\n",
            "480:\tlearn: 0.3306093\ttotal: 1.88s\tremaining: 74.2ms\n",
            "481:\tlearn: 0.3305919\ttotal: 1.88s\tremaining: 70.3ms\n",
            "482:\tlearn: 0.3305601\ttotal: 1.89s\tremaining: 66.4ms\n",
            "483:\tlearn: 0.3305204\ttotal: 1.89s\tremaining: 62.5ms\n",
            "484:\tlearn: 0.3304040\ttotal: 1.89s\tremaining: 58.6ms\n",
            "485:\tlearn: 0.3304040\ttotal: 1.9s\tremaining: 54.7ms\n",
            "486:\tlearn: 0.3302817\ttotal: 1.9s\tremaining: 50.8ms\n",
            "487:\tlearn: 0.3301277\ttotal: 1.91s\tremaining: 46.9ms\n",
            "488:\tlearn: 0.3301262\ttotal: 1.91s\tremaining: 43ms\n",
            "489:\tlearn: 0.3301083\ttotal: 1.92s\tremaining: 39.1ms\n",
            "490:\tlearn: 0.3301083\ttotal: 1.92s\tremaining: 35.3ms\n",
            "491:\tlearn: 0.3300534\ttotal: 1.93s\tremaining: 31.3ms\n",
            "492:\tlearn: 0.3299237\ttotal: 1.93s\tremaining: 27.4ms\n",
            "493:\tlearn: 0.3299192\ttotal: 1.94s\tremaining: 23.5ms\n",
            "494:\tlearn: 0.3299002\ttotal: 1.94s\tremaining: 19.6ms\n",
            "495:\tlearn: 0.3298978\ttotal: 1.94s\tremaining: 15.7ms\n",
            "496:\tlearn: 0.3298951\ttotal: 1.95s\tremaining: 11.8ms\n",
            "497:\tlearn: 0.3297323\ttotal: 1.95s\tremaining: 7.83ms\n",
            "498:\tlearn: 0.3296961\ttotal: 1.96s\tremaining: 3.92ms\n",
            "499:\tlearn: 0.3296235\ttotal: 1.96s\tremaining: 0us\n"
          ]
        },
        {
          "output_type": "execute_result",
          "data": {
            "text/plain": [
              "<catboost.core.CatBoostClassifier at 0x7fb461019250>"
            ]
          },
          "metadata": {},
          "execution_count": 31
        }
      ]
    },
    {
      "cell_type": "code",
      "metadata": {
        "id": "AxcEipbVK4GA"
      },
      "source": [
        "catboost_ans = model.predict(test_data)"
      ],
      "execution_count": null,
      "outputs": []
    },
    {
      "cell_type": "code",
      "metadata": {
        "id": "wXNj_ZyVLLjW"
      },
      "source": [
        "df = pd.DataFrame(catboost_ans)\n",
        "df.to_csv('catboost_ans.csv')"
      ],
      "execution_count": null,
      "outputs": []
    },
    {
      "cell_type": "code",
      "metadata": {
        "id": "ikpdKxj5LRs5"
      },
      "source": [
        "with open('catboost_answers.csv', 'w', newline='') as csvfile:\n",
        "    writer = csv.writer(csvfile, delimiter=',')\n",
        "    for row in range(0,catboost_ans.shape[0]):\n",
        "        myList = []\n",
        "        myList.append(catboost_ans[row])\n",
        "        writer.writerow(myList)"
      ],
      "execution_count": null,
      "outputs": []
    },
    {
      "cell_type": "code",
      "metadata": {
        "colab": {
          "base_uri": "https://localhost:8080/",
          "height": 206
        },
        "id": "wFvcEpKDLpHo",
        "outputId": "cb46b5d5-05da-4714-e3f5-0912ab3022d6"
      },
      "source": [
        "data1 = pd.read_csv(\"./catboost_answers.csv\")\n",
        "data1.head()"
      ],
      "execution_count": null,
      "outputs": [
        {
          "output_type": "execute_result",
          "data": {
            "text/html": [
              "<div>\n",
              "<style scoped>\n",
              "    .dataframe tbody tr th:only-of-type {\n",
              "        vertical-align: middle;\n",
              "    }\n",
              "\n",
              "    .dataframe tbody tr th {\n",
              "        vertical-align: top;\n",
              "    }\n",
              "\n",
              "    .dataframe thead th {\n",
              "        text-align: right;\n",
              "    }\n",
              "</style>\n",
              "<table border=\"1\" class=\"dataframe\">\n",
              "  <thead>\n",
              "    <tr style=\"text-align: right;\">\n",
              "      <th></th>\n",
              "      <th>0</th>\n",
              "    </tr>\n",
              "  </thead>\n",
              "  <tbody>\n",
              "    <tr>\n",
              "      <th>0</th>\n",
              "      <td>1</td>\n",
              "    </tr>\n",
              "    <tr>\n",
              "      <th>1</th>\n",
              "      <td>0</td>\n",
              "    </tr>\n",
              "    <tr>\n",
              "      <th>2</th>\n",
              "      <td>0</td>\n",
              "    </tr>\n",
              "    <tr>\n",
              "      <th>3</th>\n",
              "      <td>1</td>\n",
              "    </tr>\n",
              "    <tr>\n",
              "      <th>4</th>\n",
              "      <td>0</td>\n",
              "    </tr>\n",
              "  </tbody>\n",
              "</table>\n",
              "</div>"
            ],
            "text/plain": [
              "   0\n",
              "0  1\n",
              "1  0\n",
              "2  0\n",
              "3  1\n",
              "4  0"
            ]
          },
          "metadata": {},
          "execution_count": 37
        }
      ]
    }
  ]
}